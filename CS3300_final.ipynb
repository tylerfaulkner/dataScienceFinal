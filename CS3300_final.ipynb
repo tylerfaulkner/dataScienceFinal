{
 "cells": [
  {
   "cell_type": "markdown",
   "id": "a1c7183b",
   "metadata": {},
   "source": [
    "# CS3300 - Final Project\n",
    "### By: Neel Desai and Tyler Faulkner\n",
    "### Due: February 21, 2021\n",
    "\n",
    "## Hypothesis\n",
    "\n",
    "Some of the questions we are aiming to answer with this notebook are:\n",
    "\n",
    "Do any variables correalate to if the student gets placed or not?\n",
    "\n",
    "How well does a predictive classification model perform using correlated variables?\n",
    "\n",
    "How does that model compare to models using other selections of variables?\n",
    "\n",
    "If variables in the data set show correlation to the student's placement after college, then a relatively accurate predictive model can be trained to predict a student's placement post-college.\n",
    "\n",
    "\n",
    "## Data Set\n",
    "\n",
    "The data set we will be analyzing is the College Recruitment data which can be found at the link below on Kaggle:\n",
    "\n",
    "https://www.kaggle.com/benroshan/factors-affecting-campus-placement\n",
    "\n",
    "The data set was created to analyze what academic and employability factors influence whether a student gets placed into a career. The dataset was created from data from the information about MBA students during the January 2022 term from CMS Business School located in India. The original data can be found below:\n",
    "\n",
    "https://github.com/DG1606/CMS-R-2020\n",
    "\n",
    "The dataset includes 15 columns in total. The serial number column will not be used since it only serves as a unique identifier for each entry. The salary column will also not be used since it only applies to students who got placed into a career and does not apply to actually placing in a career in itself.\n",
    "\n",
    "There are 8 categorical variables in the data and 5 numerical variables we will be using in total. The placed variable will be our target variable to see if we can predict.\n",
    "\n",
    "\n",
    "### Imports"
   ]
  },
  {
   "cell_type": "code",
   "execution_count": 1,
   "id": "1a89e5d6",
   "metadata": {},
   "outputs": [],
   "source": [
    "#Analysis Imports\n",
    "import pandas as pd\n",
    "import numpy as np\n",
    "import matplotlib.pyplot as plt\n",
    "import scipy.stats as stats\n",
    "import seaborn as sns\n",
    "\n",
    "#Classification Imports\n",
    "from sklearn.model_selection import train_test_split\n",
    "from sklearn.preprocessing import LabelEncoder\n",
    "from sklearn.preprocessing import StandardScaler\n",
    "from sklearn.linear_model import SGDClassifier\n",
    "from sklearn.metrics import accuracy_score\n",
    "from sklearn.metrics import roc_curve\n",
    "from sklearn.metrics import precision_score\n",
    "from sklearn.metrics import recall_score\n",
    "from sklearn.metrics import confusion_matrix"
   ]
  },
  {
   "cell_type": "markdown",
   "id": "630a25a7",
   "metadata": {},
   "source": [
    "## Data Preprocessing\n",
    "\n",
    "The data set contains 215 unique entries. The only column that is missing values is the Salary column since only students who are placed in a career have a salary. Again, we will not be using the salary column so there is no need for imputation since we are dropping the column."
   ]
  },
  {
   "cell_type": "code",
   "execution_count": 2,
   "id": "f6fca580",
   "metadata": {},
   "outputs": [
    {
     "name": "stdout",
     "output_type": "stream",
     "text": [
      "<class 'pandas.core.frame.DataFrame'>\n",
      "RangeIndex: 215 entries, 0 to 214\n",
      "Data columns (total 15 columns):\n",
      " #   Column          Non-Null Count  Dtype  \n",
      "---  ------          --------------  -----  \n",
      " 0   sl_no           215 non-null    int64  \n",
      " 1   gender          215 non-null    object \n",
      " 2   ssc_p           215 non-null    float64\n",
      " 3   ssc_b           215 non-null    object \n",
      " 4   hsc_p           215 non-null    float64\n",
      " 5   hsc_b           215 non-null    object \n",
      " 6   hsc_s           215 non-null    object \n",
      " 7   degree_p        215 non-null    float64\n",
      " 8   degree_t        215 non-null    object \n",
      " 9   workex          215 non-null    object \n",
      " 10  etest_p         215 non-null    float64\n",
      " 11  specialisation  215 non-null    object \n",
      " 12  mba_p           215 non-null    float64\n",
      " 13  status          215 non-null    object \n",
      " 14  salary          148 non-null    float64\n",
      "dtypes: float64(6), int64(1), object(8)\n",
      "memory usage: 25.3+ KB\n",
      "None\n"
     ]
    },
    {
     "data": {
      "text/html": [
       "<div>\n",
       "<style scoped>\n",
       "    .dataframe tbody tr th:only-of-type {\n",
       "        vertical-align: middle;\n",
       "    }\n",
       "\n",
       "    .dataframe tbody tr th {\n",
       "        vertical-align: top;\n",
       "    }\n",
       "\n",
       "    .dataframe thead th {\n",
       "        text-align: right;\n",
       "    }\n",
       "</style>\n",
       "<table border=\"1\" class=\"dataframe\">\n",
       "  <thead>\n",
       "    <tr style=\"text-align: right;\">\n",
       "      <th></th>\n",
       "      <th>sl_no</th>\n",
       "      <th>gender</th>\n",
       "      <th>ssc_p</th>\n",
       "      <th>ssc_b</th>\n",
       "      <th>hsc_p</th>\n",
       "      <th>hsc_b</th>\n",
       "      <th>hsc_s</th>\n",
       "      <th>degree_p</th>\n",
       "      <th>degree_t</th>\n",
       "      <th>workex</th>\n",
       "      <th>etest_p</th>\n",
       "      <th>specialisation</th>\n",
       "      <th>mba_p</th>\n",
       "      <th>status</th>\n",
       "      <th>salary</th>\n",
       "    </tr>\n",
       "  </thead>\n",
       "  <tbody>\n",
       "    <tr>\n",
       "      <th>0</th>\n",
       "      <td>1</td>\n",
       "      <td>M</td>\n",
       "      <td>67.00</td>\n",
       "      <td>Others</td>\n",
       "      <td>91.00</td>\n",
       "      <td>Others</td>\n",
       "      <td>Commerce</td>\n",
       "      <td>58.00</td>\n",
       "      <td>Sci&amp;Tech</td>\n",
       "      <td>No</td>\n",
       "      <td>55.0</td>\n",
       "      <td>Mkt&amp;HR</td>\n",
       "      <td>58.80</td>\n",
       "      <td>Placed</td>\n",
       "      <td>270000.0</td>\n",
       "    </tr>\n",
       "    <tr>\n",
       "      <th>1</th>\n",
       "      <td>2</td>\n",
       "      <td>M</td>\n",
       "      <td>79.33</td>\n",
       "      <td>Central</td>\n",
       "      <td>78.33</td>\n",
       "      <td>Others</td>\n",
       "      <td>Science</td>\n",
       "      <td>77.48</td>\n",
       "      <td>Sci&amp;Tech</td>\n",
       "      <td>Yes</td>\n",
       "      <td>86.5</td>\n",
       "      <td>Mkt&amp;Fin</td>\n",
       "      <td>66.28</td>\n",
       "      <td>Placed</td>\n",
       "      <td>200000.0</td>\n",
       "    </tr>\n",
       "    <tr>\n",
       "      <th>2</th>\n",
       "      <td>3</td>\n",
       "      <td>M</td>\n",
       "      <td>65.00</td>\n",
       "      <td>Central</td>\n",
       "      <td>68.00</td>\n",
       "      <td>Central</td>\n",
       "      <td>Arts</td>\n",
       "      <td>64.00</td>\n",
       "      <td>Comm&amp;Mgmt</td>\n",
       "      <td>No</td>\n",
       "      <td>75.0</td>\n",
       "      <td>Mkt&amp;Fin</td>\n",
       "      <td>57.80</td>\n",
       "      <td>Placed</td>\n",
       "      <td>250000.0</td>\n",
       "    </tr>\n",
       "    <tr>\n",
       "      <th>3</th>\n",
       "      <td>4</td>\n",
       "      <td>M</td>\n",
       "      <td>56.00</td>\n",
       "      <td>Central</td>\n",
       "      <td>52.00</td>\n",
       "      <td>Central</td>\n",
       "      <td>Science</td>\n",
       "      <td>52.00</td>\n",
       "      <td>Sci&amp;Tech</td>\n",
       "      <td>No</td>\n",
       "      <td>66.0</td>\n",
       "      <td>Mkt&amp;HR</td>\n",
       "      <td>59.43</td>\n",
       "      <td>Not Placed</td>\n",
       "      <td>NaN</td>\n",
       "    </tr>\n",
       "    <tr>\n",
       "      <th>4</th>\n",
       "      <td>5</td>\n",
       "      <td>M</td>\n",
       "      <td>85.80</td>\n",
       "      <td>Central</td>\n",
       "      <td>73.60</td>\n",
       "      <td>Central</td>\n",
       "      <td>Commerce</td>\n",
       "      <td>73.30</td>\n",
       "      <td>Comm&amp;Mgmt</td>\n",
       "      <td>No</td>\n",
       "      <td>96.8</td>\n",
       "      <td>Mkt&amp;Fin</td>\n",
       "      <td>55.50</td>\n",
       "      <td>Placed</td>\n",
       "      <td>425000.0</td>\n",
       "    </tr>\n",
       "  </tbody>\n",
       "</table>\n",
       "</div>"
      ],
      "text/plain": [
       "   sl_no gender  ssc_p    ssc_b  hsc_p    hsc_b     hsc_s  degree_p  \\\n",
       "0      1      M  67.00   Others  91.00   Others  Commerce     58.00   \n",
       "1      2      M  79.33  Central  78.33   Others   Science     77.48   \n",
       "2      3      M  65.00  Central  68.00  Central      Arts     64.00   \n",
       "3      4      M  56.00  Central  52.00  Central   Science     52.00   \n",
       "4      5      M  85.80  Central  73.60  Central  Commerce     73.30   \n",
       "\n",
       "    degree_t workex  etest_p specialisation  mba_p      status    salary  \n",
       "0   Sci&Tech     No     55.0         Mkt&HR  58.80      Placed  270000.0  \n",
       "1   Sci&Tech    Yes     86.5        Mkt&Fin  66.28      Placed  200000.0  \n",
       "2  Comm&Mgmt     No     75.0        Mkt&Fin  57.80      Placed  250000.0  \n",
       "3   Sci&Tech     No     66.0         Mkt&HR  59.43  Not Placed       NaN  \n",
       "4  Comm&Mgmt     No     96.8        Mkt&Fin  55.50      Placed  425000.0  "
      ]
     },
     "execution_count": 2,
     "metadata": {},
     "output_type": "execute_result"
    }
   ],
   "source": [
    "datapath = \"Placement_Data_Full_Class.csv\"\n",
    "\n",
    "raw_data = pd.read_csv(datapath)\n",
    "\n",
    "print(raw_data.info())\n",
    "\n",
    "raw_data.head()"
   ]
  },
  {
   "cell_type": "markdown",
   "id": "ace6ec74",
   "metadata": {},
   "source": [
    "We will be dropping the serial number and salary column since salary only applies to placed students and the serial number is simply a unique indentifier that has no correlation to the status."
   ]
  },
  {
   "cell_type": "code",
   "execution_count": 3,
   "id": "ca0b1d60",
   "metadata": {},
   "outputs": [
    {
     "data": {
      "text/html": [
       "<div>\n",
       "<style scoped>\n",
       "    .dataframe tbody tr th:only-of-type {\n",
       "        vertical-align: middle;\n",
       "    }\n",
       "\n",
       "    .dataframe tbody tr th {\n",
       "        vertical-align: top;\n",
       "    }\n",
       "\n",
       "    .dataframe thead th {\n",
       "        text-align: right;\n",
       "    }\n",
       "</style>\n",
       "<table border=\"1\" class=\"dataframe\">\n",
       "  <thead>\n",
       "    <tr style=\"text-align: right;\">\n",
       "      <th></th>\n",
       "      <th>gender</th>\n",
       "      <th>ssc_p</th>\n",
       "      <th>ssc_b</th>\n",
       "      <th>hsc_p</th>\n",
       "      <th>hsc_b</th>\n",
       "      <th>hsc_s</th>\n",
       "      <th>degree_p</th>\n",
       "      <th>degree_t</th>\n",
       "      <th>workex</th>\n",
       "      <th>etest_p</th>\n",
       "      <th>specialisation</th>\n",
       "      <th>mba_p</th>\n",
       "      <th>status</th>\n",
       "    </tr>\n",
       "  </thead>\n",
       "  <tbody>\n",
       "    <tr>\n",
       "      <th>0</th>\n",
       "      <td>M</td>\n",
       "      <td>67.00</td>\n",
       "      <td>Others</td>\n",
       "      <td>91.00</td>\n",
       "      <td>Others</td>\n",
       "      <td>Commerce</td>\n",
       "      <td>58.00</td>\n",
       "      <td>Sci&amp;Tech</td>\n",
       "      <td>No</td>\n",
       "      <td>55.0</td>\n",
       "      <td>Mkt&amp;HR</td>\n",
       "      <td>58.80</td>\n",
       "      <td>Placed</td>\n",
       "    </tr>\n",
       "    <tr>\n",
       "      <th>1</th>\n",
       "      <td>M</td>\n",
       "      <td>79.33</td>\n",
       "      <td>Central</td>\n",
       "      <td>78.33</td>\n",
       "      <td>Others</td>\n",
       "      <td>Science</td>\n",
       "      <td>77.48</td>\n",
       "      <td>Sci&amp;Tech</td>\n",
       "      <td>Yes</td>\n",
       "      <td>86.5</td>\n",
       "      <td>Mkt&amp;Fin</td>\n",
       "      <td>66.28</td>\n",
       "      <td>Placed</td>\n",
       "    </tr>\n",
       "    <tr>\n",
       "      <th>2</th>\n",
       "      <td>M</td>\n",
       "      <td>65.00</td>\n",
       "      <td>Central</td>\n",
       "      <td>68.00</td>\n",
       "      <td>Central</td>\n",
       "      <td>Arts</td>\n",
       "      <td>64.00</td>\n",
       "      <td>Comm&amp;Mgmt</td>\n",
       "      <td>No</td>\n",
       "      <td>75.0</td>\n",
       "      <td>Mkt&amp;Fin</td>\n",
       "      <td>57.80</td>\n",
       "      <td>Placed</td>\n",
       "    </tr>\n",
       "    <tr>\n",
       "      <th>3</th>\n",
       "      <td>M</td>\n",
       "      <td>56.00</td>\n",
       "      <td>Central</td>\n",
       "      <td>52.00</td>\n",
       "      <td>Central</td>\n",
       "      <td>Science</td>\n",
       "      <td>52.00</td>\n",
       "      <td>Sci&amp;Tech</td>\n",
       "      <td>No</td>\n",
       "      <td>66.0</td>\n",
       "      <td>Mkt&amp;HR</td>\n",
       "      <td>59.43</td>\n",
       "      <td>Not Placed</td>\n",
       "    </tr>\n",
       "    <tr>\n",
       "      <th>4</th>\n",
       "      <td>M</td>\n",
       "      <td>85.80</td>\n",
       "      <td>Central</td>\n",
       "      <td>73.60</td>\n",
       "      <td>Central</td>\n",
       "      <td>Commerce</td>\n",
       "      <td>73.30</td>\n",
       "      <td>Comm&amp;Mgmt</td>\n",
       "      <td>No</td>\n",
       "      <td>96.8</td>\n",
       "      <td>Mkt&amp;Fin</td>\n",
       "      <td>55.50</td>\n",
       "      <td>Placed</td>\n",
       "    </tr>\n",
       "  </tbody>\n",
       "</table>\n",
       "</div>"
      ],
      "text/plain": [
       "  gender  ssc_p    ssc_b  hsc_p    hsc_b     hsc_s  degree_p   degree_t  \\\n",
       "0      M  67.00   Others  91.00   Others  Commerce     58.00   Sci&Tech   \n",
       "1      M  79.33  Central  78.33   Others   Science     77.48   Sci&Tech   \n",
       "2      M  65.00  Central  68.00  Central      Arts     64.00  Comm&Mgmt   \n",
       "3      M  56.00  Central  52.00  Central   Science     52.00   Sci&Tech   \n",
       "4      M  85.80  Central  73.60  Central  Commerce     73.30  Comm&Mgmt   \n",
       "\n",
       "  workex  etest_p specialisation  mba_p      status  \n",
       "0     No     55.0         Mkt&HR  58.80      Placed  \n",
       "1    Yes     86.5        Mkt&Fin  66.28      Placed  \n",
       "2     No     75.0        Mkt&Fin  57.80      Placed  \n",
       "3     No     66.0         Mkt&HR  59.43  Not Placed  \n",
       "4     No     96.8        Mkt&Fin  55.50      Placed  "
      ]
     },
     "execution_count": 3,
     "metadata": {},
     "output_type": "execute_result"
    }
   ],
   "source": [
    "clean_data = raw_data.drop(['sl_no', 'salary'], axis=1)\n",
    "\n",
    "clean_data.head()"
   ]
  },
  {
   "cell_type": "markdown",
   "id": "d0cbdfba",
   "metadata": {},
   "source": [
    "The last part of our preprocessing is to convert the object columns into categories."
   ]
  },
  {
   "cell_type": "code",
   "execution_count": 4,
   "id": "c4114b2e",
   "metadata": {},
   "outputs": [
    {
     "name": "stdout",
     "output_type": "stream",
     "text": [
      "<class 'pandas.core.frame.DataFrame'>\n",
      "RangeIndex: 215 entries, 0 to 214\n",
      "Data columns (total 13 columns):\n",
      " #   Column          Non-Null Count  Dtype   \n",
      "---  ------          --------------  -----   \n",
      " 0   gender          215 non-null    category\n",
      " 1   ssc_p           215 non-null    float64 \n",
      " 2   ssc_b           215 non-null    category\n",
      " 3   hsc_p           215 non-null    float64 \n",
      " 4   hsc_b           215 non-null    category\n",
      " 5   hsc_s           215 non-null    category\n",
      " 6   degree_p        215 non-null    float64 \n",
      " 7   degree_t        215 non-null    category\n",
      " 8   workex          215 non-null    category\n",
      " 9   etest_p         215 non-null    float64 \n",
      " 10  specialisation  215 non-null    category\n",
      " 11  mba_p           215 non-null    float64 \n",
      " 12  status          215 non-null    category\n",
      "dtypes: category(8), float64(5)\n",
      "memory usage: 11.2 KB\n"
     ]
    }
   ],
   "source": [
    "clean_data = clean_data.astype({'gender':'category',\n",
    "                               'ssc_b':'category',\n",
    "                               'hsc_b':'category',\n",
    "                               'hsc_s':'category',\n",
    "                               'degree_t':'category',\n",
    "                               'workex':'category',\n",
    "                               'specialisation':'category',\n",
    "                               'status':'category'})\n",
    "clean_data.info()"
   ]
  },
  {
   "cell_type": "markdown",
   "id": "7d0b9ac9",
   "metadata": {},
   "source": [
    "## Data Analysis and Visualization\n",
    "\n",
    "### Variable Characterization\n",
    "\n",
    "Before we perform and analysis for each variable compared against the placement target variable. We we characterize each variable individually to determine their centralities and distributions.\n",
    "\n",
    "#### Numerical Variables\n",
    "\n",
    "For the numerical (continuous) variables we will use a histogram.\n",
    "\n",
    "Below is the function we will use to output each numerical variable plot:"
   ]
  },
  {
   "cell_type": "code",
   "execution_count": 5,
   "id": "eba07382",
   "metadata": {},
   "outputs": [],
   "source": [
    "def plotHistogram(col_name, xlabel, color):\n",
    "    clean_data[col_name].plot.hist(color=color)\n",
    "    plt.xlabel(xlabel)\n",
    "    plt.show()"
   ]
  },
  {
   "cell_type": "markdown",
   "id": "5bf2d00a",
   "metadata": {},
   "source": [
    "##### 10th Grade Secondary Education Percentage\n",
    "\n",
    "For the students 10th grade percentage outcome, the values ranged from a little over 40% to a little under 90%. A majority of the student were in the range of 60 to 80 percentage."
   ]
  },
  {
   "cell_type": "code",
   "execution_count": 6,
   "id": "e53d6dcd",
   "metadata": {},
   "outputs": [
    {
     "data": {
      "image/png": "[encoded data removed]",
      "text/plain": [
       "<Figure size 432x288 with 1 Axes>"
      ]
     },
     "metadata": {
      "needs_background": "light"
     },
     "output_type": "display_data"
    }
   ],
   "source": [
    "plotHistogram('ssc_p', '10th Grade Education Percentage', 'blue')"
   ]
  },
  {
   "cell_type": "markdown",
   "id": "5f2f535f",
   "metadata": {},
   "source": [
    "##### 12th Grade Higher Secondary Education percentage\n",
    "\n",
    "For the students 12th grade percentage results, the found values had a range of around 35% to around 97%. Most of the students were found to be in the range of 50% to 80%."
   ]
  },
  {
   "cell_type": "code",
   "execution_count": 7,
   "id": "2bc2902d",
   "metadata": {},
   "outputs": [
    {
     "data": {
      "image/png": "[encoded data removed]",
      "text/plain": [
       "<Figure size 432x288 with 1 Axes>"
      ]
     },
     "metadata": {
      "needs_background": "light"
     },
     "output_type": "display_data"
    }
   ],
   "source": [
    "plotHistogram('hsc_p', '12th Grade Education Percentage', 'red')"
   ]
  },
  {
   "cell_type": "markdown",
   "id": "2aa16cb9",
   "metadata": {},
   "source": [
    "##### Degree Percentage\n",
    "\n",
    "The results found for the percentage for the students who graduated were between 50% to 94%. The majority of students were found to be in the range of 55% to 75%."
   ]
  },
  {
   "cell_type": "code",
   "execution_count": 8,
   "id": "28dcc8da",
   "metadata": {
    "scrolled": false
   },
   "outputs": [
    {
     "data": {
      "image/png": "[encoded data removed]",
      "text/plain": [
       "<Figure size 432x288 with 1 Axes>"
      ]
     },
     "metadata": {
      "needs_background": "light"
     },
     "output_type": "display_data"
    }
   ],
   "source": [
    "plotHistogram('degree_p', 'Degree Percentage', 'green')"
   ]
  },
  {
   "cell_type": "markdown",
   "id": "9ae957e8",
   "metadata": {},
   "source": [
    "##### Employability Test Percentage\n",
    "\n",
    "After analyzing the data we discovered that the employability test percentage for college students was between 50% and 98% with no clear cut range for a majority of values.  "
   ]
  },
  {
   "cell_type": "code",
   "execution_count": 9,
   "id": "3f6dcba1",
   "metadata": {
    "scrolled": false
   },
   "outputs": [
    {
     "data": {
      "image/png": "[encoded data removed]",
      "text/plain": [
       "<Figure size 432x288 with 1 Axes>"
      ]
     },
     "metadata": {
      "needs_background": "light"
     },
     "output_type": "display_data"
    }
   ],
   "source": [
    "plotHistogram('etest_p', 'Employability Test Percentage', 'yellow')"
   ]
  },
  {
   "cell_type": "markdown",
   "id": "93a9f19d",
   "metadata": {},
   "source": [
    "##### MBA Percentage\n",
    "\n",
    "For students that took the MBA exam, the exam scores were between 52% and 78%. Most of the students lied in the 57% to 67% range."
   ]
  },
  {
   "cell_type": "code",
   "execution_count": 10,
   "id": "a83ce70e",
   "metadata": {},
   "outputs": [
    {
     "data": {
      "image/png": "[encoded data removed]",
      "text/plain": [
       "<Figure size 432x288 with 1 Axes>"
      ]
     },
     "metadata": {
      "needs_background": "light"
     },
     "output_type": "display_data"
    }
   ],
   "source": [
    "plotHistogram('mba_p', 'MBA Percentage', 'purple')"
   ]
  },
  {
   "cell_type": "markdown",
   "id": "2306dd49",
   "metadata": {},
   "source": [
    "#### Categorical Variables\n",
    "\n",
    "For the categorical variables we will be analyzing using count plots.\n",
    "\n",
    "Below is the method we will be using to plot each variable:"
   ]
  },
  {
   "cell_type": "code",
   "execution_count": 11,
   "id": "87d3631d",
   "metadata": {},
   "outputs": [],
   "source": [
    "def plotCount(col_name, xlabel):\n",
    "    sns.countplot(x=col_name, data=clean_data)\n",
    "    plt.xlabel(xlabel)\n",
    "    plt.show()"
   ]
  },
  {
   "cell_type": "markdown",
   "id": "d276a034",
   "metadata": {},
   "source": [
    "##### Gender\n",
    "\n",
    "A majority around 65% were male compared to 35% female."
   ]
  },
  {
   "cell_type": "code",
   "execution_count": 12,
   "id": "c0ca5151",
   "metadata": {},
   "outputs": [
    {
     "data": {
      "image/png": "[encoded data removed]",
      "text/plain": [
       "<Figure size 432x288 with 1 Axes>"
      ]
     },
     "metadata": {
      "needs_background": "light"
     },
     "output_type": "display_data"
    }
   ],
   "source": [
    "plotCount('gender', 'Gender')"
   ]
  },
  {
   "cell_type": "markdown",
   "id": "ef9c7ee8",
   "metadata": {},
   "source": [
    "##### Secondary Board of Education\n",
    "\n",
    "Most students were apart of the Central secondary board of education. We will note that the data set information did not disclose how many boards encompass the 'other' category"
   ]
  },
  {
   "cell_type": "code",
   "execution_count": 13,
   "id": "c2ae6962",
   "metadata": {},
   "outputs": [
    {
     "data": {
      "image/png": "[encoded data removed]",
      "text/plain": [
       "<Figure size 432x288 with 1 Axes>"
      ]
     },
     "metadata": {
      "needs_background": "light"
     },
     "output_type": "display_data"
    }
   ],
   "source": [
    "plotCount('ssc_b', 'Secondary Board of Education')"
   ]
  },
  {
   "cell_type": "markdown",
   "id": "9cd71cf8",
   "metadata": {},
   "source": [
    "##### Higher Board of Education\n",
    "\n",
    "Most students were not in the central board of education for their higher secondary schooling. It is interesting to notice the contrast between secondary and higher secondary boards of education. "
   ]
  },
  {
   "cell_type": "code",
   "execution_count": 14,
   "id": "beae08d8",
   "metadata": {},
   "outputs": [
    {
     "data": {
      "image/png": "[encoded data removed]",
      "text/plain": [
       "<Figure size 432x288 with 1 Axes>"
      ]
     },
     "metadata": {
      "needs_background": "light"
     },
     "output_type": "display_data"
    }
   ],
   "source": [
    "plotCount('hsc_b', 'Higher Board of Education')"
   ]
  },
  {
   "cell_type": "markdown",
   "id": "8c1bca14",
   "metadata": {},
   "source": [
    "##### Specialization in Higher Secondary Education\n",
    "\n",
    "A majority of students either specialized in commerce or science while a minuscule amount of students specialized in the Arts."
   ]
  },
  {
   "cell_type": "code",
   "execution_count": 15,
   "id": "eb83093e",
   "metadata": {},
   "outputs": [
    {
     "data": {
      "image/png": "[encoded data removed]",
      "text/plain": [
       "<Figure size 432x288 with 1 Axes>"
      ]
     },
     "metadata": {
      "needs_background": "light"
     },
     "output_type": "display_data"
    }
   ],
   "source": [
    "plotCount('hsc_s', 'Specialization in Higher Secondary Education')"
   ]
  },
  {
   "cell_type": "markdown",
   "id": "850420b0",
   "metadata": {},
   "source": [
    "##### Undergraduate Degree Type\n",
    "\n",
    "A wide majority of students obtained a Commerce and Managament degree. A smaller portion obtained a Science and Tech type degree while the smallest portion took some other type of degree."
   ]
  },
  {
   "cell_type": "code",
   "execution_count": 16,
   "id": "adae8bca",
   "metadata": {},
   "outputs": [
    {
     "data": {
      "image/png": "[encoded data removed]",
      "text/plain": [
       "<Figure size 432x288 with 1 Axes>"
      ]
     },
     "metadata": {
      "needs_background": "light"
     },
     "output_type": "display_data"
    }
   ],
   "source": [
    "plotCount('degree_t', 'Undergraduate Degree Type')"
   ]
  },
  {
   "cell_type": "markdown",
   "id": "77d2ac29",
   "metadata": {},
   "source": [
    "##### Work Experience\n",
    "\n",
    "Interestingly, most of the students did not have work experience prior to their placement in a career."
   ]
  },
  {
   "cell_type": "code",
   "execution_count": 17,
   "id": "f0782992",
   "metadata": {},
   "outputs": [
    {
     "data": {
      "image/png": "[encoded data removed]",
      "text/plain": [
       "<Figure size 432x288 with 1 Axes>"
      ]
     },
     "metadata": {
      "needs_background": "light"
     },
     "output_type": "display_data"
    }
   ],
   "source": [
    "plotCount('workex', 'Work Experience')"
   ]
  },
  {
   "cell_type": "markdown",
   "id": "e6d36905",
   "metadata": {},
   "source": [
    "##### Graduate Specialisation\n",
    "\n",
    "Both the Marketing and finance degree along with the Marketing and Human Resources degree had similar counts; however, Marketing and Finance had slightly more overall."
   ]
  },
  {
   "cell_type": "code",
   "execution_count": 18,
   "id": "d547f3f8",
   "metadata": {},
   "outputs": [
    {
     "data": {
      "image/png": "[encoded data removed]",
      "text/plain": [
       "<Figure size 432x288 with 1 Axes>"
      ]
     },
     "metadata": {
      "needs_background": "light"
     },
     "output_type": "display_data"
    }
   ],
   "source": [
    "plotCount('specialisation', 'Graduate Degree Specialisation')"
   ]
  },
  {
   "cell_type": "markdown",
   "id": "f8ff7f97",
   "metadata": {},
   "source": [
    "#### Placement Status\n",
    "\n",
    "This is our target variable.\n",
    "\n",
    "A little over two thirds of the student were placed into a career after recieving their Graduate degree while the others did not."
   ]
  },
  {
   "cell_type": "code",
   "execution_count": 19,
   "id": "d248eb31",
   "metadata": {},
   "outputs": [
    {
     "data": {
      "image/png": "[encoded data removed]",
      "text/plain": [
       "<Figure size 432x288 with 1 Axes>"
      ]
     },
     "metadata": {
      "needs_background": "light"
     },
     "output_type": "display_data"
    }
   ],
   "source": [
    "plotCount('status', 'Placement Analysis')"
   ]
  },
  {
   "cell_type": "markdown",
   "id": "c1d8a9a6",
   "metadata": {},
   "source": [
    "### Variable Analysis\n",
    "\n",
    "For our data analysis, we will create a graphical visualization of the variable, information of the centrality and distribution, along with a statstical test to determine signifigance of the variable.\n",
    "\n",
    "#### Numerical Variables\n",
    "\n",
    "For the numerical variables compared against our categorical target variable we will be using a box plot and the Kruskall-Wallis test.\n",
    "\n",
    "Below is the function we will be using to create samples for each feature for the kruskall-wallis test:"
   ]
  },
  {
   "cell_type": "code",
   "execution_count": 20,
   "id": "5ddae743",
   "metadata": {},
   "outputs": [],
   "source": [
    "def sample_by_feature(feature):\n",
    "    samples_by_group = []\n",
    "    for value in set(clean_data['status']):\n",
    "        mask = clean_data['status'] == value\n",
    "        samples_by_group.append(clean_data[feature][mask])\n",
    "    return samples_by_group"
   ]
  },
  {
   "cell_type": "markdown",
   "id": "13d01b73",
   "metadata": {},
   "source": [
    "Below is the function we will be using for each variable:"
   ]
  },
  {
   "cell_type": "code",
   "execution_count": 21,
   "id": "e870d647",
   "metadata": {},
   "outputs": [],
   "source": [
    "def printNumericalInfo(col_name, var_name):\n",
    "    sns.boxplot(x=col_name, y='status', data=clean_data)\n",
    "    plt.title('Placement Status vs. ' + var_name)\n",
    "    plt.ylabel(\"Placement Status\")\n",
    "    plt.xlabel(var_name)\n",
    "    plt.show()\n",
    "    stat, p = stats.kruskal(*sample_by_feature(col_name))\n",
    "    print(\"Kruskal-Walis Test P-Value for \" + var_name + \" on Placement: \" + str(p))"
   ]
  },
  {
   "cell_type": "markdown",
   "id": "c12bd117",
   "metadata": {},
   "source": [
    "##### 10th Grade Secondary Education Percentage\n",
    "\n",
    "Based on the plot, it appears that students placed into a career had slighlty higher 10th grade percentages on average."
   ]
  },
  {
   "cell_type": "code",
   "execution_count": 22,
   "id": "d485856b",
   "metadata": {},
   "outputs": [
    {
     "data": {
      "image/png": "[encoded data removed]",
      "text/plain": [
       "<Figure size 432x288 with 1 Axes>"
      ]
     },
     "metadata": {
      "needs_background": "light"
     },
     "output_type": "display_data"
    },
    {
     "name": "stdout",
     "output_type": "stream",
     "text": [
      "Kruskal-Walis Test P-Value for 10th Grade Percentage on Placement: 1.6751463798396454e-18\n"
     ]
    }
   ],
   "source": [
    "printNumericalInfo('ssc_p', '10th Grade Percentage')"
   ]
  },
  {
   "cell_type": "markdown",
   "id": "a0f2e457",
   "metadata": {},
   "source": [
    "##### 12th Grade Higher Secondary Education Percentage\n",
    "\n",
    "Looking at the box plot, the students who had a higher 12th grade percentage were more frequently placed into jobs."
   ]
  },
  {
   "cell_type": "code",
   "execution_count": 23,
   "id": "4faa2eeb",
   "metadata": {},
   "outputs": [
    {
     "data": {
      "image/png": "[encoded data removed]",
      "text/plain": [
       "<Figure size 432x288 with 1 Axes>"
      ]
     },
     "metadata": {
      "needs_background": "light"
     },
     "output_type": "display_data"
    },
    {
     "name": "stdout",
     "output_type": "stream",
     "text": [
      "Kruskal-Walis Test P-Value for 12th Grade Percentage on Placement: 1.1865333364186911e-11\n"
     ]
    }
   ],
   "source": [
    "printNumericalInfo('hsc_p', '12th Grade Percentage')"
   ]
  },
  {
   "cell_type": "markdown",
   "id": "f07b2a81",
   "metadata": {},
   "source": [
    "##### Undergraduate Degree Percentage\n",
    "\n",
    "The box plot below shows us that on average, students who had a higher degree percentage were more likely to be put into a career. "
   ]
  },
  {
   "cell_type": "code",
   "execution_count": 24,
   "id": "1a347448",
   "metadata": {},
   "outputs": [
    {
     "data": {
      "image/png": "[encoded data removed]",
      "text/plain": [
       "<Figure size 432x288 with 1 Axes>"
      ]
     },
     "metadata": {
      "needs_background": "light"
     },
     "output_type": "display_data"
    },
    {
     "name": "stdout",
     "output_type": "stream",
     "text": [
      "Kruskal-Walis Test P-Value for Degree Percentage on Placement: 4.2650477536563365e-13\n"
     ]
    }
   ],
   "source": [
    "printNumericalInfo('degree_p', 'Degree Percentage')"
   ]
  },
  {
   "cell_type": "markdown",
   "id": "556ab8fc",
   "metadata": {},
   "source": [
    "##### Employability Test Percentage\n",
    "\n",
    "It is interesting to see that the employability test percentage for students did not have a much larger role on if a student secured a job or not. "
   ]
  },
  {
   "cell_type": "code",
   "execution_count": 25,
   "id": "51bcd493",
   "metadata": {},
   "outputs": [
    {
     "data": {
      "image/png": "[encoded data removed]",
      "text/plain": [
       "<Figure size 432x288 with 1 Axes>"
      ]
     },
     "metadata": {
      "needs_background": "light"
     },
     "output_type": "display_data"
    },
    {
     "name": "stdout",
     "output_type": "stream",
     "text": [
      "Kruskal-Walis Test P-Value for Employability Test Percentage on Placement: 0.09531059978063809\n"
     ]
    }
   ],
   "source": [
    "printNumericalInfo('etest_p', 'Employability Test Percentage')"
   ]
  },
  {
   "cell_type": "markdown",
   "id": "c95b5f3f",
   "metadata": {},
   "source": [
    "##### MBA Percentage\n",
    "\n",
    "The graphs for MBA percentages show that there was not much correlation between a students MBA score and if they got placed or not."
   ]
  },
  {
   "cell_type": "code",
   "execution_count": 26,
   "id": "19e6a780",
   "metadata": {},
   "outputs": [
    {
     "data": {
      "image/png": "[encoded data removed]",
      "text/plain": [
       "<Figure size 432x288 with 1 Axes>"
      ]
     },
     "metadata": {
      "needs_background": "light"
     },
     "output_type": "display_data"
    },
    {
     "name": "stdout",
     "output_type": "stream",
     "text": [
      "Kruskal-Walis Test P-Value for MBA Percentage on Placement: 0.35409377071336057\n"
     ]
    }
   ],
   "source": [
    "printNumericalInfo('mba_p', 'MBA Percentage')"
   ]
  },
  {
   "cell_type": "markdown",
   "id": "0ef20a65",
   "metadata": {},
   "source": [
    "#### Categorical Variables\n",
    "\n",
    "For the we will be using a heat map to visual the data and the Chi-squared test to see stastistical signifigance.\n",
    "\n",
    "Below is the method we will use to get the p-value from the Chi-squared test:"
   ]
  },
  {
   "cell_type": "code",
   "execution_count": 27,
   "id": "21b29d81",
   "metadata": {},
   "outputs": [],
   "source": [
    "def chi2_pval(col):\n",
    "    combination_counts = clean_data[[\"status\", col]].groupby(by=[\"status\", col]).size().unstack(level=0).fillna(0)\n",
    "    chi2, p, _, _ = stats.chi2_contingency(combination_counts)\n",
    "    return p"
   ]
  },
  {
   "cell_type": "markdown",
   "id": "c6ee8fab",
   "metadata": {},
   "source": [
    "Below is the method we will use to display the categorical variable information:"
   ]
  },
  {
   "cell_type": "code",
   "execution_count": 28,
   "id": "95031f4f",
   "metadata": {},
   "outputs": [],
   "source": [
    "def displayCatInfo(col_name, var_name, cmap):\n",
    "    counts = clean_data.groupby(['status', col_name]).size().unstack()\n",
    "    sns.heatmap(counts, cmap=cmap)\n",
    "    plt.title('Placement Status vs. ' + var_name)\n",
    "    plt.xlabel(var_name)\n",
    "    plt.show()\n",
    "    print(\"Chi2 test of independance of \" + var_name + \" on Placement: \" + str(chi2_pval(col_name)))"
   ]
  },
  {
   "cell_type": "markdown",
   "id": "911f82f1",
   "metadata": {},
   "source": [
    "##### Gender\n",
    "\n",
    "It appears that a majority of the students (placed and not placed) are male."
   ]
  },
  {
   "cell_type": "code",
   "execution_count": 29,
   "id": "3fed0c5f",
   "metadata": {},
   "outputs": [
    {
     "data": {
      "image/png": "[encoded data removed]",
      "text/plain": [
       "<Figure size 432x288 with 2 Axes>"
      ]
     },
     "metadata": {
      "needs_background": "light"
     },
     "output_type": "display_data"
    },
    {
     "name": "stdout",
     "output_type": "stream",
     "text": [
      "Chi2 test of independance of Gender on Placement: 0.23980260881037566\n"
     ]
    }
   ],
   "source": [
    "displayCatInfo('gender', 'Gender', 'PuRd')"
   ]
  },
  {
   "cell_type": "markdown",
   "id": "2b3e78c1",
   "metadata": {},
   "source": [
    "##### 10th Grade Secondary School Board\n",
    "\n",
    "From the heatmap, it seems that placed and not placed students mostly went to Central Secondary School."
   ]
  },
  {
   "cell_type": "code",
   "execution_count": 30,
   "id": "7d44434d",
   "metadata": {},
   "outputs": [
    {
     "data": {
      "image/png": "[encoded data removed]",
      "text/plain": [
       "<Figure size 432x288 with 2 Axes>"
      ]
     },
     "metadata": {
      "needs_background": "light"
     },
     "output_type": "display_data"
    },
    {
     "name": "stdout",
     "output_type": "stream",
     "text": [
      "Chi2 test of independance of Secondary Board of Education on Placement: 0.6897729431530739\n"
     ]
    }
   ],
   "source": [
    "displayCatInfo('ssc_b', 'Secondary Board of Education', 'GnBu')"
   ]
  },
  {
   "cell_type": "markdown",
   "id": "9a5d01b7",
   "metadata": {},
   "source": [
    "##### 12th Grade Higher Secondary Board of Education\n",
    "\n",
    "A majority of both placed and not placed student did not go to the Central Higher Secondary Education Board."
   ]
  },
  {
   "cell_type": "code",
   "execution_count": 31,
   "id": "7e932f7a",
   "metadata": {},
   "outputs": [
    {
     "data": {
      "image/png": "[encoded data removed]",
      "text/plain": [
       "<Figure size 432x288 with 2 Axes>"
      ]
     },
     "metadata": {
      "needs_background": "light"
     },
     "output_type": "display_data"
    },
    {
     "name": "stdout",
     "output_type": "stream",
     "text": [
      "Chi2 test of independance of Higher Secondary Board of Education on Placement: 0.9222837052885\n"
     ]
    }
   ],
   "source": [
    "displayCatInfo('hsc_b', 'Higher Secondary Board of Education', 'YlOrRd')"
   ]
  },
  {
   "cell_type": "markdown",
   "id": "cfd7b6ed",
   "metadata": {},
   "source": [
    "##### Higher Secondary Education Specialization\n",
    "\n",
    "Both placed and not placed students took a mixture of commerce and science specialisations primarily."
   ]
  },
  {
   "cell_type": "code",
   "execution_count": 32,
   "id": "c203807e",
   "metadata": {},
   "outputs": [
    {
     "data": {
      "image/png": "[encoded data removed]",
      "text/plain": [
       "<Figure size 432x288 with 2 Axes>"
      ]
     },
     "metadata": {
      "needs_background": "light"
     },
     "output_type": "display_data"
    },
    {
     "name": "stdout",
     "output_type": "stream",
     "text": [
      "Chi2 test of independance of Higher Secondary Education on Placement: 0.5727118511343621\n"
     ]
    }
   ],
   "source": [
    "displayCatInfo('hsc_s', 'Higher Secondary Education', 'Greens')"
   ]
  },
  {
   "cell_type": "markdown",
   "id": "acc436c0",
   "metadata": {},
   "source": [
    "##### Undergraduate Degree Type\n",
    "\n",
    "Students mostly took either Communications and Management or Science and Tech as their undergraduate degree no matter if they were placed or not placed later on."
   ]
  },
  {
   "cell_type": "code",
   "execution_count": 33,
   "id": "20fe9f62",
   "metadata": {},
   "outputs": [
    {
     "data": {
      "image/png": "[encoded data removed]",
      "text/plain": [
       "<Figure size 432x288 with 2 Axes>"
      ]
     },
     "metadata": {
      "needs_background": "light"
     },
     "output_type": "display_data"
    },
    {
     "name": "stdout",
     "output_type": "stream",
     "text": [
      "Chi2 test of independance of Undergrad Degree Type on Placement: 0.22661076190356658\n"
     ]
    }
   ],
   "source": [
    "displayCatInfo('degree_t', 'Undergrad Degree Type', 'Greys')"
   ]
  },
  {
   "cell_type": "markdown",
   "id": "d132bf59",
   "metadata": {},
   "source": [
    "##### Work Experience\n",
    "\n",
    "Most students who were not placed into a career did not have work experience."
   ]
  },
  {
   "cell_type": "code",
   "execution_count": 34,
   "id": "a149b48b",
   "metadata": {},
   "outputs": [
    {
     "data": {
      "image/png": "[encoded data removed]",
      "text/plain": [
       "<Figure size 432x288 with 2 Axes>"
      ]
     },
     "metadata": {
      "needs_background": "light"
     },
     "output_type": "display_data"
    },
    {
     "name": "stdout",
     "output_type": "stream",
     "text": [
      "Chi2 test of independance of Work Experience on Placement: 9.906584720516494e-05\n"
     ]
    }
   ],
   "source": [
    "displayCatInfo('workex', 'Work Experience', 'Reds')"
   ]
  },
  {
   "cell_type": "markdown",
   "id": "002f2cb6",
   "metadata": {},
   "source": [
    "##### Graduate Specialization\n",
    "\n",
    "There appears to be a slight split between the placed and not placed students. Most placed students took Marketing and Finance while most students who were not placed took Marketing and Human Resources."
   ]
  },
  {
   "cell_type": "code",
   "execution_count": 35,
   "id": "06ab64bd",
   "metadata": {},
   "outputs": [
    {
     "data": {
      "image/png": "[encoded data removed]",
      "text/plain": [
       "<Figure size 432x288 with 2 Axes>"
      ]
     },
     "metadata": {
      "needs_background": "light"
     },
     "output_type": "display_data"
    },
    {
     "name": "stdout",
     "output_type": "stream",
     "text": [
      "Chi2 test of independance of Graduate Specialization on Placement: 0.00042018425858864284\n"
     ]
    }
   ],
   "source": [
    "displayCatInfo('specialisation', 'Graduate Specialization', 'Blues')"
   ]
  },
  {
   "cell_type": "markdown",
   "id": "91d87978",
   "metadata": {},
   "source": [
    "#### Summary of Analysis\n",
    "Below is a table that summarizes our findings by listing each variable, its p-value, and how well the variable correlates to the target variable.\n",
    "\n",
    "We will be using an alpha value of 0.001 for our statistical tests.\n",
    "\n",
    "| Variable Name | P-Value | Correlation to Placement? |\n",
    "|---|---|---|\n",
    "| 10th Grade Secondary Education Percentage| 1.6751463798396454e-18 | Correlated |\n",
    "| 12th Grade Higher Secondary Education Percentage | 1.1865333364186911e-11 | Correlated |\n",
    "| Undergraduate Degree Percentage | 4.2650477536563365e-13 | Correlated |\n",
    "| Employability Test Percentage | 0.09531059978063809 | Not Correlated |\n",
    "| MBA Percentage | 0.35409377071336057 | Not Correlated |\n",
    "| Gender Percentage | 0.23980260881037566 | Not Correlated | \n",
    "| 10th Grade Secondary School Board | 0.6897729431530739 | Not Correlated |\n",
    "| 12th Grade Higher Secondary School Board | 0.9222837052885 | Not Correlated |\n",
    "| Higher Secondary Specialization | 0.5727118511343621 | Not Correlated |\n",
    "| Undergraduate Degree Type | 0.22661076190356658 | Not Correlated |\n",
    "| Work Experience | 9.906584720516494e-05 | Correlated |\n",
    "| Graduate Specialization | 0.00042018425858864284 | Slighlty Correlated |\n",
    "\n",
    "\n",
    "## Data Modeling and Prediction\n",
    "\n",
    "We will be using the scikit learn's SDGClassifier implementation of logistic regression to perfrom classification on our data.\n",
    "\n",
    "Four models will be created: a null model, a model using the variables found to correlate from our explaratory data analysis, a greedy model that only adds new features if it increases the models accuracy, and a model using all of the variables from the data.\n",
    "\n",
    "### Train-Test Splitting\n",
    "\n",
    "Before creating our models we need to create a train and test split that will be used for all of our models."
   ]
  },
  {
   "cell_type": "code",
   "execution_count": 36,
   "id": "8d85fb9c",
   "metadata": {},
   "outputs": [
    {
     "name": "stdout",
     "output_type": "stream",
     "text": [
      "215 161 54\n"
     ]
    }
   ],
   "source": [
    "df_train, df_test = train_test_split(clean_data, stratify=clean_data[\"status\"])\n",
    "print(clean_data.shape[0], df_train.shape[0], df_test.shape[0])"
   ]
  },
  {
   "cell_type": "markdown",
   "id": "b4a72240",
   "metadata": {},
   "source": [
    "### Create X and Y Matrices\n",
    "\n",
    "The next step is to create x and y matrices for the classififer from the train test splits."
   ]
  },
  {
   "cell_type": "code",
   "execution_count": 37,
   "id": "28c6426c",
   "metadata": {},
   "outputs": [
    {
     "data": {
      "text/html": [
       "<div>\n",
       "<style scoped>\n",
       "    .dataframe tbody tr th:only-of-type {\n",
       "        vertical-align: middle;\n",
       "    }\n",
       "\n",
       "    .dataframe tbody tr th {\n",
       "        vertical-align: top;\n",
       "    }\n",
       "\n",
       "    .dataframe thead th {\n",
       "        text-align: right;\n",
       "    }\n",
       "</style>\n",
       "<table border=\"1\" class=\"dataframe\">\n",
       "  <thead>\n",
       "    <tr style=\"text-align: right;\">\n",
       "      <th></th>\n",
       "      <th>gender</th>\n",
       "      <th>ssc_p</th>\n",
       "      <th>ssc_b</th>\n",
       "      <th>hsc_p</th>\n",
       "      <th>hsc_b</th>\n",
       "      <th>hsc_s</th>\n",
       "      <th>degree_p</th>\n",
       "      <th>degree_t</th>\n",
       "      <th>workex</th>\n",
       "      <th>etest_p</th>\n",
       "      <th>specialisation</th>\n",
       "      <th>mba_p</th>\n",
       "    </tr>\n",
       "  </thead>\n",
       "  <tbody>\n",
       "    <tr>\n",
       "      <th>65</th>\n",
       "      <td>M</td>\n",
       "      <td>54.0</td>\n",
       "      <td>Others</td>\n",
       "      <td>47.0</td>\n",
       "      <td>Others</td>\n",
       "      <td>Science</td>\n",
       "      <td>57.00</td>\n",
       "      <td>Comm&amp;Mgmt</td>\n",
       "      <td>No</td>\n",
       "      <td>89.69</td>\n",
       "      <td>Mkt&amp;HR</td>\n",
       "      <td>57.10</td>\n",
       "    </tr>\n",
       "    <tr>\n",
       "      <th>123</th>\n",
       "      <td>M</td>\n",
       "      <td>74.0</td>\n",
       "      <td>Others</td>\n",
       "      <td>59.0</td>\n",
       "      <td>Others</td>\n",
       "      <td>Commerce</td>\n",
       "      <td>73.00</td>\n",
       "      <td>Comm&amp;Mgmt</td>\n",
       "      <td>Yes</td>\n",
       "      <td>60.00</td>\n",
       "      <td>Mkt&amp;HR</td>\n",
       "      <td>56.70</td>\n",
       "    </tr>\n",
       "    <tr>\n",
       "      <th>5</th>\n",
       "      <td>M</td>\n",
       "      <td>55.0</td>\n",
       "      <td>Others</td>\n",
       "      <td>49.8</td>\n",
       "      <td>Others</td>\n",
       "      <td>Science</td>\n",
       "      <td>67.25</td>\n",
       "      <td>Sci&amp;Tech</td>\n",
       "      <td>Yes</td>\n",
       "      <td>55.00</td>\n",
       "      <td>Mkt&amp;Fin</td>\n",
       "      <td>51.58</td>\n",
       "    </tr>\n",
       "    <tr>\n",
       "      <th>171</th>\n",
       "      <td>M</td>\n",
       "      <td>80.0</td>\n",
       "      <td>Others</td>\n",
       "      <td>80.0</td>\n",
       "      <td>Others</td>\n",
       "      <td>Commerce</td>\n",
       "      <td>72.00</td>\n",
       "      <td>Comm&amp;Mgmt</td>\n",
       "      <td>Yes</td>\n",
       "      <td>63.79</td>\n",
       "      <td>Mkt&amp;Fin</td>\n",
       "      <td>66.04</td>\n",
       "    </tr>\n",
       "    <tr>\n",
       "      <th>31</th>\n",
       "      <td>F</td>\n",
       "      <td>67.0</td>\n",
       "      <td>Central</td>\n",
       "      <td>53.0</td>\n",
       "      <td>Central</td>\n",
       "      <td>Science</td>\n",
       "      <td>65.00</td>\n",
       "      <td>Sci&amp;Tech</td>\n",
       "      <td>No</td>\n",
       "      <td>64.00</td>\n",
       "      <td>Mkt&amp;HR</td>\n",
       "      <td>58.32</td>\n",
       "    </tr>\n",
       "  </tbody>\n",
       "</table>\n",
       "</div>"
      ],
      "text/plain": [
       "    gender  ssc_p    ssc_b  hsc_p    hsc_b     hsc_s  degree_p   degree_t  \\\n",
       "65       M   54.0   Others   47.0   Others   Science     57.00  Comm&Mgmt   \n",
       "123      M   74.0   Others   59.0   Others  Commerce     73.00  Comm&Mgmt   \n",
       "5        M   55.0   Others   49.8   Others   Science     67.25   Sci&Tech   \n",
       "171      M   80.0   Others   80.0   Others  Commerce     72.00  Comm&Mgmt   \n",
       "31       F   67.0  Central   53.0  Central   Science     65.00   Sci&Tech   \n",
       "\n",
       "    workex  etest_p specialisation  mba_p  \n",
       "65      No    89.69         Mkt&HR  57.10  \n",
       "123    Yes    60.00         Mkt&HR  56.70  \n",
       "5      Yes    55.00        Mkt&Fin  51.58  \n",
       "171    Yes    63.79        Mkt&Fin  66.04  \n",
       "31      No    64.00         Mkt&HR  58.32  "
      ]
     },
     "execution_count": 37,
     "metadata": {},
     "output_type": "execute_result"
    }
   ],
   "source": [
    "X_train = df_train.drop('status', axis=1)\n",
    "X_test = df_test.drop('status', axis=1)\n",
    "\n",
    "y_train = df_train['status']\n",
    "y_test = df_test['status']\n",
    "\n",
    "X_train.head()"
   ]
  },
  {
   "cell_type": "markdown",
   "id": "c2e81382",
   "metadata": {},
   "source": [
    "### Encode Categorical Variables\n",
    "\n",
    "Next, we must encode our categorical variables into numerical types in order to be used by the model."
   ]
  },
  {
   "cell_type": "code",
   "execution_count": 38,
   "id": "db11a678",
   "metadata": {},
   "outputs": [],
   "source": [
    "encoder = LabelEncoder()\n",
    "\n",
    "#X Variables\n",
    "X_train['gender'] = encoder.fit_transform(X_train['gender'].astype('str'))\n",
    "X_test['gender'] = encoder.transform(X_test['gender'].astype('str'))\n",
    "\n",
    "X_train['ssc_b'] = encoder.fit_transform(X_train['ssc_b'].astype('str'))\n",
    "X_test['ssc_b'] = encoder.transform(X_test['ssc_b'].astype('str'))\n",
    "\n",
    "X_train['hsc_b'] = encoder.fit_transform(X_train['hsc_b'].astype('str'))\n",
    "X_test['hsc_b'] = encoder.transform(X_test['hsc_b'].astype('str'))\n",
    "\n",
    "X_train['hsc_s'] = encoder.fit_transform(X_train['hsc_s'].astype('str'))\n",
    "X_test['hsc_s'] = encoder.transform(X_test['hsc_s'].astype('str'))\n",
    "\n",
    "X_train['degree_t'] = encoder.fit_transform(X_train['degree_t'].astype('str'))\n",
    "X_test['degree_t'] = encoder.transform(X_test['degree_t'].astype('str'))\n",
    "\n",
    "X_train['workex'] = encoder.fit_transform(X_train['workex'].astype('str'))\n",
    "X_test['workex'] = encoder.transform(X_test['workex'].astype('str'))\n",
    "\n",
    "X_train['specialisation'] = encoder.fit_transform(X_train['specialisation'].astype('str'))\n",
    "X_test['specialisation'] = encoder.transform(X_test['specialisation'].astype('str'))\n",
    "\n",
    "#Y Variable\n",
    "y_train = encoder.fit_transform(y_train.astype('str'))\n",
    "y_test = encoder.transform(y_test.astype('str'))"
   ]
  },
  {
   "cell_type": "markdown",
   "id": "4eca1ec4",
   "metadata": {},
   "source": [
    "### Scale Split Data\n",
    "\n",
    "The last step in processing the data is to scale the X variables to ensure they are all on the same scale."
   ]
  },
  {
   "cell_type": "code",
   "execution_count": 39,
   "id": "9988124a",
   "metadata": {},
   "outputs": [],
   "source": [
    "scaler = StandardScaler()\n",
    "X_train = scaler.fit_transform(X_train)\n",
    "X_test = scaler.transform(X_test)"
   ]
  },
  {
   "cell_type": "markdown",
   "id": "43d1f265",
   "metadata": {},
   "source": [
    "### Null Model\n",
    "\n",
    "The null model will be trained on input of all zeros the same shape of the training set so the variables have no influence on the predicted class. This will represent our baseline."
   ]
  },
  {
   "cell_type": "code",
   "execution_count": 40,
   "id": "cf221977",
   "metadata": {},
   "outputs": [],
   "source": [
    "zeros_train = np.zeros(X_train.shape)\n",
    "zeros_test = np.zeros(X_test.shape)\n",
    "\n",
    "null_lr = SGDClassifier(max_iter=10000, loss=\"log\")\n",
    "null_lr.fit(zeros_train, y_train)\n",
    "\n",
    "pred_labels = null_lr.predict(zeros_test)\n",
    "null_accuracy = accuracy_score(y_test, pred_labels)"
   ]
  },
  {
   "cell_type": "markdown",
   "id": "d239ed1a",
   "metadata": {},
   "source": [
    "### Exploratory Analysis Model\n",
    "\n",
    "The variables we will use for htis model are the 10th Grade Percentage, the 12th Grade Percentage, the Undergraduate percentage, if the student had work experience, and the graduate specialization. Each of these variables were found to have the most correlation with the status variable."
   ]
  },
  {
   "cell_type": "code",
   "execution_count": 41,
   "id": "75866394",
   "metadata": {},
   "outputs": [
    {
     "data": {
      "text/plain": [
       "SGDClassifier(loss='log', max_iter=10000)"
      ]
     },
     "execution_count": 41,
     "metadata": {},
     "output_type": "execute_result"
    }
   ],
   "source": [
    "#column numbers: 1 (10th Grade), 3 (12th grade), 6 (Undergaduate Percentage), 8(work experience), 9(Specialization)\n",
    "expa_train = X_train[:,[1,3,6,8,9]]\n",
    "expa_test = X_test[:,[1,3,6,8,9]]\n",
    "\n",
    "expa_lr = SGDClassifier(max_iter=10000, loss=\"log\")\n",
    "expa_lr.fit(expa_train, y_train)"
   ]
  },
  {
   "cell_type": "markdown",
   "id": "5de670a4",
   "metadata": {},
   "source": [
    "### Greedy Model\n",
    "\n",
    "Next, we will create a greedy model that will prioritize improving accuracy in the model.\n",
    "\n",
    "First we need to sort the columns from most accuracy to least accuracy."
   ]
  },
  {
   "cell_type": "code",
   "execution_count": 42,
   "id": "05c181e7",
   "metadata": {},
   "outputs": [
    {
     "name": "stdout",
     "output_type": "stream",
     "text": [
      "Sorted Array: [(0.7962962962962963, 3), (0.7592592592592593, 1), (0.7037037037037037, 6), (0.6851851851851852, 4), (0.6851851851851852, 5), (0.6851851851851852, 10), (0.5555555555555556, 11), (0.5, 0), (0.5, 2), (0.4444444444444444, 7), (0.3888888888888889, 8), (0.37037037037037035, 9)]\n"
     ]
    }
   ],
   "source": [
    "def sort_cols(x_train, x_test, Y_train, Y_test):\n",
    "    col_accuracies = []\n",
    "    for col in range(x_train.shape[1]):\n",
    "        colx_train = x_train[:,col].reshape(x_train[:,col].shape[0],1)\n",
    "        colx_test = x_test[:,col].reshape(x_test[:,col].shape[0],1)\n",
    "        simple_lr = SGDClassifier(max_iter=10000, loss=\"log\")\n",
    "        simple_lr.fit(colx_train, Y_train)\n",
    "        pred_labels = simple_lr.predict(colx_test)\n",
    "        accuracy = accuracy_score(Y_test, pred_labels)\n",
    "        col_accuracies.append((accuracy, col))\n",
    "    col_accuracies.sort(key=lambda p: p[0], reverse=True)\n",
    "    print(\"Sorted Array: \" + str(col_accuracies))\n",
    "    sorted_columns = [col_name for _, col_name in col_accuracies]\n",
    "    return sorted_columns\n",
    "\n",
    "    \n",
    "sorted_cols = sort_cols(X_train, X_test, y_train, y_test)"
   ]
  },
  {
   "cell_type": "markdown",
   "id": "65a35878",
   "metadata": {},
   "source": [
    "Now we will use the sorted columns to iteratively build a logistic regression model by adding one variable at a time to see if it increases the accuracy."
   ]
  },
  {
   "cell_type": "code",
   "execution_count": 43,
   "id": "a2528e21",
   "metadata": {},
   "outputs": [
    {
     "name": "stdout",
     "output_type": "stream",
     "text": [
      "Columns used: ['ssc_p', 'hsc_p', 'hsc_b', 'degree_p']\n"
     ]
    }
   ],
   "source": [
    "def create_greedy(x_train, x_test, y_train, y_test, base_accuracy, base_model, sorted_columns, data):\n",
    "    best_model = base_model\n",
    "    best_accuracy = base_accuracy\n",
    "    \n",
    "    kept_columns = []\n",
    "    \n",
    "    #Iterate through each sort column\n",
    "    for col in sorted_columns:\n",
    "        columns_to_grab = kept_columns +[col]\n",
    "        \n",
    "        colx_train = x_train[:,columns_to_grab]\n",
    "        colx_test = x_test[:,columns_to_grab]\n",
    "    \n",
    "        simple_lr = SGDClassifier(max_iter=10000, loss=\"log\")\n",
    "        simple_lr.fit(colx_train, y_train)\n",
    "        pred_labels = simple_lr.predict(colx_test)\n",
    "        accuracy = accuracy_score(y_test, pred_labels)\n",
    "        \n",
    "        if accuracy > best_accuracy:\n",
    "            best_model = simple_lr\n",
    "            best_accuracy = accuracy\n",
    "            kept_columns.append(col)\n",
    "            \n",
    "    #Find and print column names\n",
    "    column_names = []\n",
    "    for i in range(len(data.columns)):\n",
    "        col = data.columns[i]\n",
    "        if(i in kept_columns):\n",
    "            column_names.append(col)\n",
    "    print('Columns used: ' + str(column_names))\n",
    "    \n",
    "    return best_model, x_test[:,kept_columns], column_names\n",
    "\n",
    "greedy_model, greedyx_test, greedycol_names = create_greedy(X_train, X_test, y_train, y_test, null_accuracy, null_lr, sorted_cols, df_train.drop('status', axis=1))"
   ]
  },
  {
   "cell_type": "markdown",
   "id": "4eb05011",
   "metadata": {},
   "source": [
    "### All Variables Analysis\n",
    "\n",
    "The final model will use all of the variables in our dataset."
   ]
  },
  {
   "cell_type": "code",
   "execution_count": 44,
   "id": "8bf8b28f",
   "metadata": {},
   "outputs": [
    {
     "data": {
      "text/plain": [
       "SGDClassifier(loss='log', max_iter=10000)"
      ]
     },
     "execution_count": 44,
     "metadata": {},
     "output_type": "execute_result"
    }
   ],
   "source": [
    "all_lr = SGDClassifier(max_iter=10000, loss=\"log\")\n",
    "all_lr.fit(X_train, y_train)"
   ]
  },
  {
   "cell_type": "markdown",
   "id": "fb702c66",
   "metadata": {},
   "source": [
    "### Model Evaluation\n",
    "\n",
    "For our evaluation we will be using ROC curves, accuracy score, precision, recall, and confusion matrices.\n",
    "\n",
    "#### ROC Curves\n",
    "\n",
    "##### Null Model\n",
    "\n",
    "The null model forms a straight line on the ROC curve since the model only predicts the same label for every input."
   ]
  },
  {
   "cell_type": "code",
   "execution_count": 45,
   "id": "12e2550c",
   "metadata": {},
   "outputs": [
    {
     "data": {
      "image/png": "[encoded data removed]",
      "text/plain": [
       "<Figure size 432x288 with 1 Axes>"
      ]
     },
     "metadata": {
      "needs_background": "light"
     },
     "output_type": "display_data"
    }
   ],
   "source": [
    "pred_prob_null = null_lr.predict_proba(zeros_test)[:,1]\n",
    "\n",
    "fpr, tpr, _ = roc_curve(y_test, pred_prob_null)\n",
    "\n",
    "plt.plot(fpr, tpr)\n",
    "#plt.plot([0.0, 1.0], [0.0, 1.0])\n",
    "plt.xlabel(\"False Positive Rate\", fontsize=16)\n",
    "plt.ylabel(\"True Positive Rate\", fontsize=16)\n",
    "\n",
    "plt.show()"
   ]
  },
  {
   "cell_type": "markdown",
   "id": "7e0852b5",
   "metadata": {},
   "source": [
    "##### Exploratory Analysis Model"
   ]
  },
  {
   "cell_type": "code",
   "execution_count": 46,
   "id": "e854fd3e",
   "metadata": {},
   "outputs": [
    {
     "data": {
      "image/png": "[encoded data removed]",
      "text/plain": [
       "<Figure size 432x288 with 1 Axes>"
      ]
     },
     "metadata": {
      "needs_background": "light"
     },
     "output_type": "display_data"
    }
   ],
   "source": [
    "pred_prob_expa = expa_lr.predict_proba(expa_test)[:,1]\n",
    "\n",
    "fpr, tpr, _ = roc_curve(y_test, pred_prob_expa)\n",
    "\n",
    "plt.plot(fpr, tpr)\n",
    "plt.plot([0.0, 1.0], [0.0, 1.0])\n",
    "plt.xlabel(\"False Positive Rate\", fontsize=16)\n",
    "plt.ylabel(\"True Positive Rate\", fontsize=16)\n",
    "\n",
    "plt.show()"
   ]
  },
  {
   "cell_type": "markdown",
   "id": "dac27454",
   "metadata": {},
   "source": [
    "##### Greedy Model"
   ]
  },
  {
   "cell_type": "code",
   "execution_count": 47,
   "id": "2fd5b3fc",
   "metadata": {},
   "outputs": [
    {
     "data": {
      "image/png": "[encoded data removed]",
      "text/plain": [
       "<Figure size 432x288 with 1 Axes>"
      ]
     },
     "metadata": {
      "needs_background": "light"
     },
     "output_type": "display_data"
    }
   ],
   "source": [
    "pred_prob_greedy = greedy_model.predict_proba(greedyx_test)[:,1]\n",
    "\n",
    "fpr, tpr, _ = roc_curve(y_test, pred_prob_greedy)\n",
    "\n",
    "plt.plot(fpr, tpr)\n",
    "plt.plot([0.0, 1.0], [0.0, 1.0])\n",
    "plt.xlabel(\"False Positive Rate\", fontsize=16)\n",
    "plt.ylabel(\"True Positive Rate\", fontsize=16)\n",
    "\n",
    "plt.show()"
   ]
  },
  {
   "cell_type": "markdown",
   "id": "d4b28d31",
   "metadata": {},
   "source": [
    "##### All Variables Model"
   ]
  },
  {
   "cell_type": "code",
   "execution_count": 48,
   "id": "b722e974",
   "metadata": {},
   "outputs": [
    {
     "data": {
      "image/png": "[encoded data removed]",
      "text/plain": [
       "<Figure size 432x288 with 1 Axes>"
      ]
     },
     "metadata": {
      "needs_background": "light"
     },
     "output_type": "display_data"
    }
   ],
   "source": [
    "pred_prob_all = all_lr.predict_proba(X_test)[:,1]\n",
    "\n",
    "fpr, tpr, _ = roc_curve(y_test, pred_prob_all)\n",
    "\n",
    "plt.plot(fpr, tpr)\n",
    "plt.plot([0.0, 1.0], [0.0, 1.0])\n",
    "plt.xlabel(\"False Positive Rate\", fontsize=16)\n",
    "plt.ylabel(\"True Positive Rate\", fontsize=16)\n",
    "\n",
    "plt.show()"
   ]
  },
  {
   "cell_type": "markdown",
   "id": "871bb17d",
   "metadata": {},
   "source": [
    "#### Accuracy Scores\n",
    "\n",
    "It is interesting to note how accurate the all variables model is over the rest."
   ]
  },
  {
   "cell_type": "code",
   "execution_count": 49,
   "id": "22e83610",
   "metadata": {},
   "outputs": [
    {
     "name": "stdout",
     "output_type": "stream",
     "text": [
      "Null Accuracy: 0.6851851851851852\n",
      "Exploratory Analyisis Accuracy: 0.8518518518518519\n",
      "Greedy Variable Accuracy: 0.9074074074074074\n",
      "All Variables Accuracy: 0.8518518518518519\n"
     ]
    }
   ],
   "source": [
    "print(\"Null Accuracy: \" +str(null_accuracy))\n",
    "expa_labels = expa_lr.predict(expa_test)\n",
    "expa_accuracy = accuracy_score(y_test, expa_labels)\n",
    "print(\"Exploratory Analyisis Accuracy: \" + str(expa_accuracy))\n",
    "greedy_labels = greedy_model.predict(greedyx_test)\n",
    "greedy_accuracy = accuracy_score(y_test, greedy_labels)\n",
    "print(\"Greedy Variable Accuracy: \" + str(greedy_accuracy))\n",
    "all_labels = all_lr.predict(X_test)\n",
    "all_accuracy = accuracy_score(y_test, all_labels)\n",
    "print(\"All Variables Accuracy: \" + str(all_accuracy))"
   ]
  },
  {
   "cell_type": "markdown",
   "id": "cadf1983",
   "metadata": {},
   "source": [
    "#### Precision and Recall Scores\n",
    "\n",
    "The all variables model had a very close accuracy to the exploratorty data analysis mdoel."
   ]
  },
  {
   "cell_type": "code",
   "execution_count": 52,
   "id": "a8f6288c",
   "metadata": {},
   "outputs": [
    {
     "name": "stdout",
     "output_type": "stream",
     "text": [
      "The Null Model had a Presicton Score of 0.6851851851851852\n",
      "The Exploratory Model had a Precision Score of 0.9\n",
      "The Greedy Model had a Precision Score of 0.9\n",
      "The All Variables Model had a Presicion Score of 0.8918918918918919\n"
     ]
    }
   ],
   "source": [
    "null_prediction = null_lr.predict(zeros_test)\n",
    "null_precision = precision_score(y_test, null_prediction)\n",
    "\n",
    "print(\"The Null Model had a Presicton Score of \" + str(null_precision))\n",
    "\n",
    "expa_prediction = expa_lr.predict(expa_test)\n",
    "expa_prediction = precision_score(y_test, expa_prediction)\n",
    "\n",
    "print(\"The Exploratory Model had a Precision Score of \" + str(greedy_precision))\n",
    "\n",
    "greedy_predictions = greedy_model.predict(greedyx_test)\n",
    "greedy_precision = precision_score(y_test, greedy_predictions)\n",
    "\n",
    "print(\"The Greedy Model had a Precision Score of \" + str(greedy_precision))\n",
    "\n",
    "all_predictions = all_lr.predict(X_test)\n",
    "all_precision = precision_score(y_test, all_predictions)\n",
    "\n",
    "print(\"The All Variables Model had a Presicion Score of \" + str(all_precision))"
   ]
  },
  {
   "cell_type": "markdown",
   "id": "d9b681f3",
   "metadata": {},
   "source": [
    "## Results Analysis"
   ]
  }
 ],
 "metadata": {
  "kernelspec": {
   "display_name": "Python 3 (ipykernel)",
   "language": "python",
   "name": "python3"
  },
  "language_info": {
   "codemirror_mode": {
    "name": "ipython",
    "version": 3
   },
   "file_extension": ".py",
   "mimetype": "text/x-python",
   "name": "python",
   "nbconvert_exporter": "python",
   "pygments_lexer": "ipython3",
   "version": "3.9.7"
  }
 },
 "nbformat": 4,
 "nbformat_minor": 5
}
