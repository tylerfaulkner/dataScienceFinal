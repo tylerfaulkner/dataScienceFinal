{
 "cells": [
  {
   "cell_type": "markdown",
   "id": "a1c7183b",
   "metadata": {},
   "source": [
    "# CS3300 - Final Project\n",
    "### By: Neel Desai and Tyler Faulkner\n",
    "### Due: February 21, 2021\n",
    "\n",
    "## Hypothesis\n",
    "\n",
    "Some of the questions we are aiming to answer with this notebook are:\n",
    "\n",
    "Do any variables correalate to if the student gets placed or not?\n",
    "\n",
    "How well does a predictive classification model perform using correlated variables?\n",
    "\n",
    "How does that model compare to models using other selections of variables?\n",
    "\n",
    "If variables in the data set show correlation to the student's placement after college, then a relatively accurate predictive model can be trained to predict a student's placement post-college.\n",
    "\n",
    "\n",
    "## Data Set\n",
    "\n",
    "## Data Preprocessing\n",
    "\n",
    "## Data Analysis and Visualization\n",
    "\n",
    "## Data Modeling and Prediction\n",
    "\n",
    "## Results Analysis"
   ]
  }
 ],
 "metadata": {
  "kernelspec": {
   "display_name": "Python 3 (ipykernel)",
   "language": "python",
   "name": "python3"
  },
  "language_info": {
   "codemirror_mode": {
    "name": "ipython",
    "version": 3
   },
   "file_extension": ".py",
   "mimetype": "text/x-python",
   "name": "python",
   "nbconvert_exporter": "python",
   "pygments_lexer": "ipython3",
   "version": "3.9.7"
  }
 },
 "nbformat": 4,
 "nbformat_minor": 5
}
