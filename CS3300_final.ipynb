{
 "cells": [
  {
   "cell_type": "markdown",
   "id": "a1c7183b",
   "metadata": {},
   "source": [
    "# CS3300 - Final Project\n",
    "### By: Neel Desai and Tyler Faulkner\n",
    "### Due: February 21, 2021\n",
    "\n",
    "## Hypothesis\n",
    "\n",
    "Some of the questions we are aiming to answer with this notebook are:\n",
    "\n",
    "Do any variables correalate to if the student gets placed or not?\n",
    "\n",
    "How well does a predictive classification model perform using correlated variables?\n",
    "\n",
    "How does that model compare to models using other selections of variables?\n",
    "\n",
    "If variables in the data set show correlation to the student's placement after college, then a relatively accurate predictive model can be trained to predict a student's placement post-college.\n",
    "\n",
    "\n",
    "## Data Set\n",
    "\n",
    "The data set we will be analyzing is the College Recruitment data which can be found at the link below on Kaggle:\n",
    "\n",
    "https://www.kaggle.com/benroshan/factors-affecting-campus-placement\n",
    "\n",
    "The data set was created to analyze what academic and employability factors influence whether a student gets placed into a career. The dataset was created from data from the information about MBA students during the January 2022 term from CMS Business School located in India. The original data can be found below:\n",
    "\n",
    "https://github.com/DG1606/CMS-R-2020\n",
    "\n",
    "The dataset includes 15 columns in total. The serial number column will not be used since it only serves as a unique identifier for each entry. The salary column will also not be used since it only applies to students who got placed into a career and does not apply to actually placing in a career in itself.\n",
    "\n",
    "There are 8 categorical variables in the data and 5 numerical variables we will be using in total. The placed variable will be our target variable to see if we can predict.\n",
    "\n",
    "\n",
    "### Imports"
   ]
  },
  {
   "cell_type": "code",
   "execution_count": 1,
   "id": "1a89e5d6",
   "metadata": {},
   "outputs": [],
   "source": [
    "import pandas as pd\n",
    "import numpy as np\n",
    "import matplotlib.pyplot as plt\n",
    "import scipy.stats as stats\n",
    "import seaborn as sns"
   ]
  },
  {
   "cell_type": "markdown",
   "id": "630a25a7",
   "metadata": {},
   "source": [
    "## Data Preprocessing\n",
    "\n",
    "The data set contains 215 unique entries. The only column that is missing values is the Salary column since only students who are placed in a career have a salary. Again, we will not be using the salary column so there is no need for imputation since we are dropping the column."
   ]
  },
  {
   "cell_type": "code",
   "execution_count": 2,
   "id": "f6fca580",
   "metadata": {},
   "outputs": [
    {
     "name": "stdout",
     "output_type": "stream",
     "text": [
      "<class 'pandas.core.frame.DataFrame'>\n",
      "RangeIndex: 215 entries, 0 to 214\n",
      "Data columns (total 15 columns):\n",
      " #   Column          Non-Null Count  Dtype  \n",
      "---  ------          --------------  -----  \n",
      " 0   sl_no           215 non-null    int64  \n",
      " 1   gender          215 non-null    object \n",
      " 2   ssc_p           215 non-null    float64\n",
      " 3   ssc_b           215 non-null    object \n",
      " 4   hsc_p           215 non-null    float64\n",
      " 5   hsc_b           215 non-null    object \n",
      " 6   hsc_s           215 non-null    object \n",
      " 7   degree_p        215 non-null    float64\n",
      " 8   degree_t        215 non-null    object \n",
      " 9   workex          215 non-null    object \n",
      " 10  etest_p         215 non-null    float64\n",
      " 11  specialisation  215 non-null    object \n",
      " 12  mba_p           215 non-null    float64\n",
      " 13  status          215 non-null    object \n",
      " 14  salary          148 non-null    float64\n",
      "dtypes: float64(6), int64(1), object(8)\n",
      "memory usage: 25.3+ KB\n",
      "None\n"
     ]
    },
    {
     "data": {
      "text/html": [
       "<div>\n",
       "<style scoped>\n",
       "    .dataframe tbody tr th:only-of-type {\n",
       "        vertical-align: middle;\n",
       "    }\n",
       "\n",
       "    .dataframe tbody tr th {\n",
       "        vertical-align: top;\n",
       "    }\n",
       "\n",
       "    .dataframe thead th {\n",
       "        text-align: right;\n",
       "    }\n",
       "</style>\n",
       "<table border=\"1\" class=\"dataframe\">\n",
       "  <thead>\n",
       "    <tr style=\"text-align: right;\">\n",
       "      <th></th>\n",
       "      <th>sl_no</th>\n",
       "      <th>gender</th>\n",
       "      <th>ssc_p</th>\n",
       "      <th>ssc_b</th>\n",
       "      <th>hsc_p</th>\n",
       "      <th>hsc_b</th>\n",
       "      <th>hsc_s</th>\n",
       "      <th>degree_p</th>\n",
       "      <th>degree_t</th>\n",
       "      <th>workex</th>\n",
       "      <th>etest_p</th>\n",
       "      <th>specialisation</th>\n",
       "      <th>mba_p</th>\n",
       "      <th>status</th>\n",
       "      <th>salary</th>\n",
       "    </tr>\n",
       "  </thead>\n",
       "  <tbody>\n",
       "    <tr>\n",
       "      <th>0</th>\n",
       "      <td>1</td>\n",
       "      <td>M</td>\n",
       "      <td>67.00</td>\n",
       "      <td>Others</td>\n",
       "      <td>91.00</td>\n",
       "      <td>Others</td>\n",
       "      <td>Commerce</td>\n",
       "      <td>58.00</td>\n",
       "      <td>Sci&amp;Tech</td>\n",
       "      <td>No</td>\n",
       "      <td>55.0</td>\n",
       "      <td>Mkt&amp;HR</td>\n",
       "      <td>58.80</td>\n",
       "      <td>Placed</td>\n",
       "      <td>270000.0</td>\n",
       "    </tr>\n",
       "    <tr>\n",
       "      <th>1</th>\n",
       "      <td>2</td>\n",
       "      <td>M</td>\n",
       "      <td>79.33</td>\n",
       "      <td>Central</td>\n",
       "      <td>78.33</td>\n",
       "      <td>Others</td>\n",
       "      <td>Science</td>\n",
       "      <td>77.48</td>\n",
       "      <td>Sci&amp;Tech</td>\n",
       "      <td>Yes</td>\n",
       "      <td>86.5</td>\n",
       "      <td>Mkt&amp;Fin</td>\n",
       "      <td>66.28</td>\n",
       "      <td>Placed</td>\n",
       "      <td>200000.0</td>\n",
       "    </tr>\n",
       "    <tr>\n",
       "      <th>2</th>\n",
       "      <td>3</td>\n",
       "      <td>M</td>\n",
       "      <td>65.00</td>\n",
       "      <td>Central</td>\n",
       "      <td>68.00</td>\n",
       "      <td>Central</td>\n",
       "      <td>Arts</td>\n",
       "      <td>64.00</td>\n",
       "      <td>Comm&amp;Mgmt</td>\n",
       "      <td>No</td>\n",
       "      <td>75.0</td>\n",
       "      <td>Mkt&amp;Fin</td>\n",
       "      <td>57.80</td>\n",
       "      <td>Placed</td>\n",
       "      <td>250000.0</td>\n",
       "    </tr>\n",
       "    <tr>\n",
       "      <th>3</th>\n",
       "      <td>4</td>\n",
       "      <td>M</td>\n",
       "      <td>56.00</td>\n",
       "      <td>Central</td>\n",
       "      <td>52.00</td>\n",
       "      <td>Central</td>\n",
       "      <td>Science</td>\n",
       "      <td>52.00</td>\n",
       "      <td>Sci&amp;Tech</td>\n",
       "      <td>No</td>\n",
       "      <td>66.0</td>\n",
       "      <td>Mkt&amp;HR</td>\n",
       "      <td>59.43</td>\n",
       "      <td>Not Placed</td>\n",
       "      <td>NaN</td>\n",
       "    </tr>\n",
       "    <tr>\n",
       "      <th>4</th>\n",
       "      <td>5</td>\n",
       "      <td>M</td>\n",
       "      <td>85.80</td>\n",
       "      <td>Central</td>\n",
       "      <td>73.60</td>\n",
       "      <td>Central</td>\n",
       "      <td>Commerce</td>\n",
       "      <td>73.30</td>\n",
       "      <td>Comm&amp;Mgmt</td>\n",
       "      <td>No</td>\n",
       "      <td>96.8</td>\n",
       "      <td>Mkt&amp;Fin</td>\n",
       "      <td>55.50</td>\n",
       "      <td>Placed</td>\n",
       "      <td>425000.0</td>\n",
       "    </tr>\n",
       "  </tbody>\n",
       "</table>\n",
       "</div>"
      ],
      "text/plain": [
       "   sl_no gender  ssc_p    ssc_b  hsc_p    hsc_b     hsc_s  degree_p  \\\n",
       "0      1      M  67.00   Others  91.00   Others  Commerce     58.00   \n",
       "1      2      M  79.33  Central  78.33   Others   Science     77.48   \n",
       "2      3      M  65.00  Central  68.00  Central      Arts     64.00   \n",
       "3      4      M  56.00  Central  52.00  Central   Science     52.00   \n",
       "4      5      M  85.80  Central  73.60  Central  Commerce     73.30   \n",
       "\n",
       "    degree_t workex  etest_p specialisation  mba_p      status    salary  \n",
       "0   Sci&Tech     No     55.0         Mkt&HR  58.80      Placed  270000.0  \n",
       "1   Sci&Tech    Yes     86.5        Mkt&Fin  66.28      Placed  200000.0  \n",
       "2  Comm&Mgmt     No     75.0        Mkt&Fin  57.80      Placed  250000.0  \n",
       "3   Sci&Tech     No     66.0         Mkt&HR  59.43  Not Placed       NaN  \n",
       "4  Comm&Mgmt     No     96.8        Mkt&Fin  55.50      Placed  425000.0  "
      ]
     },
     "execution_count": 2,
     "metadata": {},
     "output_type": "execute_result"
    }
   ],
   "source": [
    "datapath = \"Placement_Data_Full_Class.csv\"\n",
    "\n",
    "raw_data = pd.read_csv(datapath)\n",
    "\n",
    "print(raw_data.info())\n",
    "\n",
    "raw_data.head()"
   ]
  },
  {
   "cell_type": "markdown",
   "id": "ace6ec74",
   "metadata": {},
   "source": [
    "We will be dropping the serial number and salary column since salary only applies to placed students and the serial number is simply a unique indentifier that has no correlation to the status."
   ]
  },
  {
   "cell_type": "code",
   "execution_count": 3,
   "id": "ca0b1d60",
   "metadata": {},
   "outputs": [
    {
     "data": {
      "text/html": [
       "<div>\n",
       "<style scoped>\n",
       "    .dataframe tbody tr th:only-of-type {\n",
       "        vertical-align: middle;\n",
       "    }\n",
       "\n",
       "    .dataframe tbody tr th {\n",
       "        vertical-align: top;\n",
       "    }\n",
       "\n",
       "    .dataframe thead th {\n",
       "        text-align: right;\n",
       "    }\n",
       "</style>\n",
       "<table border=\"1\" class=\"dataframe\">\n",
       "  <thead>\n",
       "    <tr style=\"text-align: right;\">\n",
       "      <th></th>\n",
       "      <th>gender</th>\n",
       "      <th>ssc_p</th>\n",
       "      <th>ssc_b</th>\n",
       "      <th>hsc_p</th>\n",
       "      <th>hsc_b</th>\n",
       "      <th>hsc_s</th>\n",
       "      <th>degree_p</th>\n",
       "      <th>degree_t</th>\n",
       "      <th>workex</th>\n",
       "      <th>etest_p</th>\n",
       "      <th>specialisation</th>\n",
       "      <th>mba_p</th>\n",
       "      <th>status</th>\n",
       "    </tr>\n",
       "  </thead>\n",
       "  <tbody>\n",
       "    <tr>\n",
       "      <th>0</th>\n",
       "      <td>M</td>\n",
       "      <td>67.00</td>\n",
       "      <td>Others</td>\n",
       "      <td>91.00</td>\n",
       "      <td>Others</td>\n",
       "      <td>Commerce</td>\n",
       "      <td>58.00</td>\n",
       "      <td>Sci&amp;Tech</td>\n",
       "      <td>No</td>\n",
       "      <td>55.0</td>\n",
       "      <td>Mkt&amp;HR</td>\n",
       "      <td>58.80</td>\n",
       "      <td>Placed</td>\n",
       "    </tr>\n",
       "    <tr>\n",
       "      <th>1</th>\n",
       "      <td>M</td>\n",
       "      <td>79.33</td>\n",
       "      <td>Central</td>\n",
       "      <td>78.33</td>\n",
       "      <td>Others</td>\n",
       "      <td>Science</td>\n",
       "      <td>77.48</td>\n",
       "      <td>Sci&amp;Tech</td>\n",
       "      <td>Yes</td>\n",
       "      <td>86.5</td>\n",
       "      <td>Mkt&amp;Fin</td>\n",
       "      <td>66.28</td>\n",
       "      <td>Placed</td>\n",
       "    </tr>\n",
       "    <tr>\n",
       "      <th>2</th>\n",
       "      <td>M</td>\n",
       "      <td>65.00</td>\n",
       "      <td>Central</td>\n",
       "      <td>68.00</td>\n",
       "      <td>Central</td>\n",
       "      <td>Arts</td>\n",
       "      <td>64.00</td>\n",
       "      <td>Comm&amp;Mgmt</td>\n",
       "      <td>No</td>\n",
       "      <td>75.0</td>\n",
       "      <td>Mkt&amp;Fin</td>\n",
       "      <td>57.80</td>\n",
       "      <td>Placed</td>\n",
       "    </tr>\n",
       "    <tr>\n",
       "      <th>3</th>\n",
       "      <td>M</td>\n",
       "      <td>56.00</td>\n",
       "      <td>Central</td>\n",
       "      <td>52.00</td>\n",
       "      <td>Central</td>\n",
       "      <td>Science</td>\n",
       "      <td>52.00</td>\n",
       "      <td>Sci&amp;Tech</td>\n",
       "      <td>No</td>\n",
       "      <td>66.0</td>\n",
       "      <td>Mkt&amp;HR</td>\n",
       "      <td>59.43</td>\n",
       "      <td>Not Placed</td>\n",
       "    </tr>\n",
       "    <tr>\n",
       "      <th>4</th>\n",
       "      <td>M</td>\n",
       "      <td>85.80</td>\n",
       "      <td>Central</td>\n",
       "      <td>73.60</td>\n",
       "      <td>Central</td>\n",
       "      <td>Commerce</td>\n",
       "      <td>73.30</td>\n",
       "      <td>Comm&amp;Mgmt</td>\n",
       "      <td>No</td>\n",
       "      <td>96.8</td>\n",
       "      <td>Mkt&amp;Fin</td>\n",
       "      <td>55.50</td>\n",
       "      <td>Placed</td>\n",
       "    </tr>\n",
       "  </tbody>\n",
       "</table>\n",
       "</div>"
      ],
      "text/plain": [
       "  gender  ssc_p    ssc_b  hsc_p    hsc_b     hsc_s  degree_p   degree_t  \\\n",
       "0      M  67.00   Others  91.00   Others  Commerce     58.00   Sci&Tech   \n",
       "1      M  79.33  Central  78.33   Others   Science     77.48   Sci&Tech   \n",
       "2      M  65.00  Central  68.00  Central      Arts     64.00  Comm&Mgmt   \n",
       "3      M  56.00  Central  52.00  Central   Science     52.00   Sci&Tech   \n",
       "4      M  85.80  Central  73.60  Central  Commerce     73.30  Comm&Mgmt   \n",
       "\n",
       "  workex  etest_p specialisation  mba_p      status  \n",
       "0     No     55.0         Mkt&HR  58.80      Placed  \n",
       "1    Yes     86.5        Mkt&Fin  66.28      Placed  \n",
       "2     No     75.0        Mkt&Fin  57.80      Placed  \n",
       "3     No     66.0         Mkt&HR  59.43  Not Placed  \n",
       "4     No     96.8        Mkt&Fin  55.50      Placed  "
      ]
     },
     "execution_count": 3,
     "metadata": {},
     "output_type": "execute_result"
    }
   ],
   "source": [
    "clean_data = raw_data.drop(['sl_no', 'salary'], axis=1)\n",
    "\n",
    "clean_data.head()"
   ]
  },
  {
   "cell_type": "markdown",
   "id": "d0cbdfba",
   "metadata": {},
   "source": [
    "The last part of our preprocessing is to convert the object columns into categories."
   ]
  },
  {
   "cell_type": "code",
   "execution_count": 4,
   "id": "c4114b2e",
   "metadata": {},
   "outputs": [
    {
     "name": "stdout",
     "output_type": "stream",
     "text": [
      "<class 'pandas.core.frame.DataFrame'>\n",
      "RangeIndex: 215 entries, 0 to 214\n",
      "Data columns (total 13 columns):\n",
      " #   Column          Non-Null Count  Dtype   \n",
      "---  ------          --------------  -----   \n",
      " 0   gender          215 non-null    category\n",
      " 1   ssc_p           215 non-null    float64 \n",
      " 2   ssc_b           215 non-null    category\n",
      " 3   hsc_p           215 non-null    float64 \n",
      " 4   hsc_b           215 non-null    category\n",
      " 5   hsc_s           215 non-null    category\n",
      " 6   degree_p        215 non-null    float64 \n",
      " 7   degree_t        215 non-null    category\n",
      " 8   workex          215 non-null    category\n",
      " 9   etest_p         215 non-null    float64 \n",
      " 10  specialisation  215 non-null    category\n",
      " 11  mba_p           215 non-null    float64 \n",
      " 12  status          215 non-null    category\n",
      "dtypes: category(8), float64(5)\n",
      "memory usage: 11.2 KB\n"
     ]
    }
   ],
   "source": [
    "clean_data = clean_data.astype({'gender':'category',\n",
    "                               'ssc_b':'category',\n",
    "                               'hsc_b':'category',\n",
    "                               'hsc_s':'category',\n",
    "                               'degree_t':'category',\n",
    "                               'workex':'category',\n",
    "                               'specialisation':'category',\n",
    "                               'status':'category'})\n",
    "clean_data.info()"
   ]
  },
  {
   "cell_type": "markdown",
   "id": "7d0b9ac9",
   "metadata": {},
   "source": [
    "## Data Analysis and Visualization\n",
    "\n",
    "### Variable Characterization\n",
    "\n",
    "Before we perform and analysis for each variable compared against the placement target variable. We we characterize each variable individually to determine their centralities and distributions.\n",
    "\n",
    "#### Numerical Variables\n",
    "\n",
    "For the numerical (continuous) variables we will use a histogram.\n",
    "\n",
    "Below is the function we will use to output each numerical variable plot:"
   ]
  },
  {
   "cell_type": "code",
   "execution_count": 5,
   "id": "eba07382",
   "metadata": {},
   "outputs": [],
   "source": [
    "def plotHistogram(col_name, xlabel, color):\n",
    "    clean_data[col_name].plot.hist(color=color)\n",
    "    plt.xlabel(xlabel)\n",
    "    plt.show()"
   ]
  },
  {
   "cell_type": "markdown",
   "id": "5bf2d00a",
   "metadata": {},
   "source": [
    "##### 10th Grade Secondary Education Percentage\n",
    "\n",
    "For the students 10th grade percentage outcome, the values ranged from a little over 40% to a little under 90%. A majority of the student were in the range of 60 to 80 percentage."
   ]
  },
  {
   "cell_type": "code",
   "execution_count": 6,
   "id": "e53d6dcd",
   "metadata": {},
   "outputs": [
    {
     "data": {
      "image/png": "[encoded data removed]",
      "text/plain": [
       "<Figure size 432x288 with 1 Axes>"
      ]
     },
     "metadata": {
      "needs_background": "light"
     },
     "output_type": "display_data"
    }
   ],
   "source": [
    "plotHistogram('ssc_p', '10th Grade Education Percentage', 'blue')"
   ]
  },
  {
   "cell_type": "markdown",
   "id": "5f2f535f",
   "metadata": {},
   "source": [
    "##### 12th Grade Higher Secondary Education percentage\n",
    "\n",
    "For the students 12th grade percentage results, the found values had a range of around 35% to around 97%. Most of the students were found to be in the range of 50% to 80%."
   ]
  },
  {
   "cell_type": "code",
   "execution_count": 8,
   "id": "2bc2902d",
   "metadata": {},
   "outputs": [
    {
     "data": {
      "image/png": "[encoded data removed]",
      "text/plain": [
       "<Figure size 432x288 with 1 Axes>"
      ]
     },
     "metadata": {
      "needs_background": "light"
     },
     "output_type": "display_data"
    }
   ],
   "source": [
    "plotHistogram('hsc_p', '12th Grade Education Percentage', 'red')"
   ]
  },
  {
   "cell_type": "markdown",
   "id": "2aa16cb9",
   "metadata": {},
   "source": [
    "##### Degree Percentage\n",
    "\n",
    "The results found for the percentage for the students who graduated were between 50% to 94%. The majority of students were found to be in the range of 55% to 75%."
   ]
  },
  {
   "cell_type": "code",
   "execution_count": 10,
   "id": "28dcc8da",
   "metadata": {
    "scrolled": false
   },
   "outputs": [
    {
     "data": {
      "image/png": "[encoded data removed]",
      "text/plain": [
       "<Figure size 432x288 with 1 Axes>"
      ]
     },
     "metadata": {
      "needs_background": "light"
     },
     "output_type": "display_data"
    }
   ],
   "source": [
    "plotHistogram('degree_p', 'Degree Percentage', 'green')"
   ]
  },
  {
   "cell_type": "markdown",
   "id": "9ae957e8",
   "metadata": {},
   "source": [
    "##### Employability Test Percentage\n",
    "\n",
    "After analyzing the data we discovered that the employability test percentage for college students was between 50% and 98% with no clear cut range for a majority of values.  "
   ]
  },
  {
   "cell_type": "code",
   "execution_count": 11,
   "id": "3f6dcba1",
   "metadata": {
    "scrolled": false
   },
   "outputs": [
    {
     "data": {
      "image/png": "[encoded data removed]",
      "text/plain": [
       "<Figure size 432x288 with 1 Axes>"
      ]
     },
     "metadata": {
      "needs_background": "light"
     },
     "output_type": "display_data"
    }
   ],
   "source": [
    "plotHistogram('etest_p', 'Employability Test Percentage', 'yellow')"
   ]
  },
  {
   "cell_type": "markdown",
   "id": "93a9f19d",
   "metadata": {},
   "source": [
    "##### MBA Percentage\n",
    "\n",
    "For students that took the MBA exam, the exam scores were between 52% and 78%. Most of the students lied in the 57% to 67% range."
   ]
  },
  {
   "cell_type": "code",
   "execution_count": 13,
   "id": "a83ce70e",
   "metadata": {},
   "outputs": [
    {
     "data": {
      "image/png": "[encoded data removed]",
      "text/plain": [
       "<Figure size 432x288 with 1 Axes>"
      ]
     },
     "metadata": {
      "needs_background": "light"
     },
     "output_type": "display_data"
    }
   ],
   "source": [
    "plotHistogram('mba_p', 'MBA Percentage', 'purple')"
   ]
  },
  {
   "cell_type": "markdown",
   "id": "2306dd49",
   "metadata": {},
   "source": [
    "#### Categorical Variables\n",
    "\n",
    "For the categorical variables we will be analyzing using count plots.\n",
    "\n",
    "Below is the method we will be using to plot each variable:"
   ]
  },
  {
   "cell_type": "code",
   "execution_count": 15,
   "id": "87d3631d",
   "metadata": {},
   "outputs": [],
   "source": [
    "def plotCount(col_name, xlabel):\n",
    "    sns.countplot(x=col_name, data=clean_data)\n",
    "    plt.xlabel(xlabel)\n",
    "    plt.show()"
   ]
  },
  {
   "cell_type": "markdown",
   "id": "d276a034",
   "metadata": {},
   "source": [
    "##### Gender\n",
    "\n",
    "A majority around 65% were male compared to 35% female."
   ]
  },
  {
   "cell_type": "code",
   "execution_count": 16,
   "id": "c0ca5151",
   "metadata": {},
   "outputs": [
    {
     "data": {
      "image/png": "[encoded data removed]",
      "text/plain": [
       "<Figure size 432x288 with 1 Axes>"
      ]
     },
     "metadata": {
      "needs_background": "light"
     },
     "output_type": "display_data"
    }
   ],
   "source": [
    "plotCount('gender', 'Gender')"
   ]
  },
  {
   "cell_type": "markdown",
   "id": "ef9c7ee8",
   "metadata": {},
   "source": [
    "##### Secondary Board of Education\n",
    "\n",
    "Most students were apart of the Central secondary board of education. We will note that the data set information did not disclose how many boards encompass the 'other' category"
   ]
  },
  {
   "cell_type": "code",
   "execution_count": 17,
   "id": "c2ae6962",
   "metadata": {},
   "outputs": [
    {
     "data": {
      "image/png": "[encoded data removed]",
      "text/plain": [
       "<Figure size 432x288 with 1 Axes>"
      ]
     },
     "metadata": {
      "needs_background": "light"
     },
     "output_type": "display_data"
    }
   ],
   "source": [
    "plotCount('ssc_b', 'Secondary Board of Education')"
   ]
  },
  {
   "cell_type": "markdown",
   "id": "9cd71cf8",
   "metadata": {},
   "source": [
    "##### Higher Board of Education\n",
    "\n",
    "Most students were not in the central board of education for their higher secondary schooling. It is interesting to notice the contrast between secondary and higher secondary boards of education. "
   ]
  },
  {
   "cell_type": "code",
   "execution_count": 18,
   "id": "beae08d8",
   "metadata": {},
   "outputs": [
    {
     "data": {
      "image/png": "[encoded data removed]",
      "text/plain": [
       "<Figure size 432x288 with 1 Axes>"
      ]
     },
     "metadata": {
      "needs_background": "light"
     },
     "output_type": "display_data"
    }
   ],
   "source": [
    "plotCount('hsc_b', 'Higher Board of Education')"
   ]
  },
  {
   "cell_type": "markdown",
   "id": "8c1bca14",
   "metadata": {},
   "source": [
    "##### Specialization in Higher Secondary Education\n",
    "\n",
    "A majority of students either specialized in commerce or science while a minuscule amount of students specialized in the Arts."
   ]
  },
  {
   "cell_type": "code",
   "execution_count": 19,
   "id": "eb83093e",
   "metadata": {},
   "outputs": [
    {
     "data": {
      "image/png": "[encoded data removed]",
      "text/plain": [
       "<Figure size 432x288 with 1 Axes>"
      ]
     },
     "metadata": {
      "needs_background": "light"
     },
     "output_type": "display_data"
    }
   ],
   "source": [
    "plotCount('hsc_s', 'Specialization in Higher Secondary Education')"
   ]
  },
  {
   "cell_type": "markdown",
   "id": "850420b0",
   "metadata": {},
   "source": [
    "##### Undergraduate Degree Type\n",
    "\n",
    "A wide majority of students obtained a Commerce and Managament degree. A smaller portion obtained a Science and Tech type degree while the smallest portion took some other type of degree."
   ]
  },
  {
   "cell_type": "code",
   "execution_count": 20,
   "id": "adae8bca",
   "metadata": {},
   "outputs": [
    {
     "data": {
      "image/png": "[encoded data removed]",
      "text/plain": [
       "<Figure size 432x288 with 1 Axes>"
      ]
     },
     "metadata": {
      "needs_background": "light"
     },
     "output_type": "display_data"
    }
   ],
   "source": [
    "plotCount('degree_t', 'Undergraduate Degree Type')"
   ]
  },
  {
   "cell_type": "markdown",
   "id": "77d2ac29",
   "metadata": {},
   "source": [
    "##### Work Experience\n",
    "\n",
    "Interestingly, most of the students did not have work experience prior to their placement in a career."
   ]
  },
  {
   "cell_type": "code",
   "execution_count": 21,
   "id": "f0782992",
   "metadata": {},
   "outputs": [
    {
     "data": {
      "image/png": "[encoded data removed]",
      "text/plain": [
       "<Figure size 432x288 with 1 Axes>"
      ]
     },
     "metadata": {
      "needs_background": "light"
     },
     "output_type": "display_data"
    }
   ],
   "source": [
    "plotCount('workex', 'Work Experience')"
   ]
  },
  {
   "cell_type": "markdown",
   "id": "e6d36905",
   "metadata": {},
   "source": [
    "##### Graduate Specialisation\n",
    "\n",
    "Both the Marketing and finance degree along with the Marketing and Human Resources degree had similar counts; however, Marketing and Finance had slightly more overall."
   ]
  },
  {
   "cell_type": "code",
   "execution_count": 22,
   "id": "d547f3f8",
   "metadata": {},
   "outputs": [
    {
     "data": {
      "image/png": "[encoded data removed]",
      "text/plain": [
       "<Figure size 432x288 with 1 Axes>"
      ]
     },
     "metadata": {
      "needs_background": "light"
     },
     "output_type": "display_data"
    }
   ],
   "source": [
    "plotCount('specialisation', 'Graduate Degree Specialisation')"
   ]
  },
  {
   "cell_type": "markdown",
   "id": "f8ff7f97",
   "metadata": {},
   "source": [
    "#### Placement Status\n",
    "\n",
    "This is our target variable.\n",
    "\n",
    "A little over two thirds of the student were placed into a career after recieving their Graduate degree while the others did not."
   ]
  },
  {
   "cell_type": "code",
   "execution_count": 23,
   "id": "d248eb31",
   "metadata": {},
   "outputs": [
    {
     "data": {
      "image/png": "[encoded data removed]",
      "text/plain": [
       "<Figure size 432x288 with 1 Axes>"
      ]
     },
     "metadata": {
      "needs_background": "light"
     },
     "output_type": "display_data"
    }
   ],
   "source": [
    "plotCount('status', 'Placement Analysis')"
   ]
  },
  {
   "cell_type": "markdown",
   "id": "c1d8a9a6",
   "metadata": {},
   "source": [
    "### Variable Analysis\n",
    "\n",
    "For our data analysis, we will create a graphical visualization of the variable, information of the centrality and distribution, along with a statstical test to determine signifigance of the variable.\n",
    "\n",
    "#### Numerical Variables\n",
    "\n",
    "For the numerical variables compared against our categorical target variable we will be using a box plot and the Kruskall-Wallis test.\n",
    "\n",
    "Below is the function we will be using to create samples for each feature for the kruskall-wallis test:"
   ]
  },
  {
   "cell_type": "code",
   "execution_count": 31,
   "id": "5ddae743",
   "metadata": {},
   "outputs": [],
   "source": [
    "def sample_by_feature(feature):\n",
    "    samples_by_group = []\n",
    "    for value in set(clean_data['status']):\n",
    "        mask = clean_data['status'] == value\n",
    "        samples_by_group.append(clean_data[feature][mask])\n",
    "    return samples_by_group"
   ]
  },
  {
   "cell_type": "markdown",
   "id": "13d01b73",
   "metadata": {},
   "source": [
    "Below is the function we will be using for each variable:"
   ]
  },
  {
   "cell_type": "code",
   "execution_count": 25,
   "id": "e870d647",
   "metadata": {},
   "outputs": [],
   "source": [
    "def printNumericalInfo(col_name, var_name):\n",
    "    sns.boxplot(x=col_name, y='status', data=clean_data)\n",
    "    plt.title('Placement Status vs. ' + var_name)\n",
    "    plt.ylabel(\"Placement Status\")\n",
    "    plt.xlabel(var_name)\n",
    "    plt.show()\n",
    "    stat, p = stats.kruskal(*sample_by_feature(col_name))\n",
    "    print(\"Kruskal-Walis Test P-Value for \" + var_name + \" on Placement: \" + str(p))"
   ]
  },
  {
   "cell_type": "markdown",
   "id": "c12bd117",
   "metadata": {},
   "source": [
    "##### 10th Grade Secondary Education Percentage\n",
    "\n",
    "Based on the plot, it appears that students placed into a career had slighlty higher 10th grade percentages on average."
   ]
  },
  {
   "cell_type": "code",
   "execution_count": 32,
   "id": "d485856b",
   "metadata": {},
   "outputs": [
    {
     "data": {
      "image/png": "[encoded data removed]",
      "text/plain": [
       "<Figure size 432x288 with 1 Axes>"
      ]
     },
     "metadata": {
      "needs_background": "light"
     },
     "output_type": "display_data"
    },
    {
     "name": "stdout",
     "output_type": "stream",
     "text": [
      "Kruskal-Walis Test P-Value for 10th Grade Percentage on Placement: 1.6751463798396454e-18\n"
     ]
    }
   ],
   "source": [
    "printNumericalInfo('ssc_p', '10th Grade Percentage')"
   ]
  },
  {
   "cell_type": "markdown",
   "id": "a0f2e457",
   "metadata": {},
   "source": [
    "##### 12th Grade Higer Secondary Education Percentage\n",
    "\n",
    "Looking at the box plot, the students who had a higher 12th grade percentage were more frequently placed into jobs."
   ]
  },
  {
   "cell_type": "code",
   "execution_count": 33,
   "id": "4faa2eeb",
   "metadata": {},
   "outputs": [
    {
     "data": {
      "image/png": "[encoded data removed]",
      "text/plain": [
       "<Figure size 432x288 with 1 Axes>"
      ]
     },
     "metadata": {
      "needs_background": "light"
     },
     "output_type": "display_data"
    },
    {
     "name": "stdout",
     "output_type": "stream",
     "text": [
      "Kruskal-Walis Test P-Value for 12th Grade Percentage on Placement: 1.1865333364186911e-11\n"
     ]
    }
   ],
   "source": [
    "printNumericalInfo('hsc_p', '12th Grade Percentage')"
   ]
  },
  {
   "cell_type": "markdown",
   "id": "f07b2a81",
   "metadata": {},
   "source": [
    "##### Degree Percentage\n",
    "\n",
    "The box plot below shows us that on average, students who had a higher degree percentage were more likely to be put into a career. "
   ]
  },
  {
   "cell_type": "code",
   "execution_count": 34,
   "id": "1a347448",
   "metadata": {},
   "outputs": [
    {
     "data": {
      "image/png": "[encoded data removed]",
      "text/plain": [
       "<Figure size 432x288 with 1 Axes>"
      ]
     },
     "metadata": {
      "needs_background": "light"
     },
     "output_type": "display_data"
    },
    {
     "name": "stdout",
     "output_type": "stream",
     "text": [
      "Kruskal-Walis Test P-Value for Degree Percentage on Placement: 4.2650477536563365e-13\n"
     ]
    }
   ],
   "source": [
    "printNumericalInfo('degree_p', 'Degree Percentage')"
   ]
  },
  {
   "cell_type": "markdown",
   "id": "556ab8fc",
   "metadata": {},
   "source": [
    "##### Employability Test Percentage\n",
    "\n",
    "It is interesting to see that the employability test percentage for students did not have a much larger role on if a student secured a job or not. "
   ]
  },
  {
   "cell_type": "code",
   "execution_count": 37,
   "id": "51bcd493",
   "metadata": {},
   "outputs": [
    {
     "data": {
      "image/png": "[encoded data removed]",
      "text/plain": [
       "<Figure size 432x288 with 1 Axes>"
      ]
     },
     "metadata": {
      "needs_background": "light"
     },
     "output_type": "display_data"
    },
    {
     "name": "stdout",
     "output_type": "stream",
     "text": [
      "Kruskal-Walis Test P-Value for Employability Test Percentage on Placement: 0.09531059978063809\n"
     ]
    }
   ],
   "source": [
    "printNumericalInfo('etest_p', 'Employability Test Percentage')"
   ]
  },
  {
   "cell_type": "markdown",
   "id": "c95b5f3f",
   "metadata": {},
   "source": [
    "##### MBA Percentage\n",
    "\n",
    "The graphs for MBA percentages show that there was not much correlation between a students MBA score and if they got placed or not."
   ]
  },
  {
   "cell_type": "code",
   "execution_count": 36,
   "id": "19e6a780",
   "metadata": {},
   "outputs": [
    {
     "data": {
      "image/png": "[encoded data removed]",
      "text/plain": [
       "<Figure size 432x288 with 1 Axes>"
      ]
     },
     "metadata": {
      "needs_background": "light"
     },
     "output_type": "display_data"
    },
    {
     "name": "stdout",
     "output_type": "stream",
     "text": [
      "Kruskal-Walis Test P-Value for MBA Percentage on Placement: 0.35409377071336057\n"
     ]
    }
   ],
   "source": [
    "printNumericalInfo('mba_p', 'MBA Percentage')"
   ]
  },
  {
   "cell_type": "markdown",
   "id": "0ef20a65",
   "metadata": {},
   "source": [
    "#### Categorical Variables\n",
    "\n",
    "For the we will be using a heat map to visual the data and the Chi-squared test to see stastistical signifigance.\n",
    "\n",
    "Below is the method we will use to get the p-value from the Chi-squared test:"
   ]
  },
  {
   "cell_type": "code",
   "execution_count": 41,
   "id": "21b29d81",
   "metadata": {},
   "outputs": [],
   "source": [
    "def chi2_pval(col):\n",
    "    combination_counts = clean_data[[\"status\", col]].groupby(by=[\"status\", col]).size().unstack(level=0).fillna(0)\n",
    "    chi2, p, _, _ = stats.chi2_contingency(combination_counts)\n",
    "    return p"
   ]
  },
  {
   "cell_type": "markdown",
   "id": "c6ee8fab",
   "metadata": {},
   "source": [
    "Below is the method we will use to display the categorical variable information:"
   ]
  },
  {
   "cell_type": "code",
   "execution_count": 39,
   "id": "95031f4f",
   "metadata": {},
   "outputs": [],
   "source": [
    "def displayCatInfo(col_name, var_name, cmap):\n",
    "    counts = clean_data.groupby(['status', col_name]).size().unstack()\n",
    "    sns.heatmap(counts, cmap=cmap)\n",
    "    plt.title('Placement Status vs. ' + var_name)\n",
    "    plt.xlabel(var_name)\n",
    "    plt.show()\n",
    "    print(\"Chi2 test of independance of \" + var_name + \" on Placement: \" + str(chi2_pval(col_name)))"
   ]
  },
  {
   "cell_type": "markdown",
   "id": "911f82f1",
   "metadata": {},
   "source": [
    "##### Gender"
   ]
  },
  {
   "cell_type": "code",
   "execution_count": 42,
   "id": "3fed0c5f",
   "metadata": {},
   "outputs": [
    {
     "data": {
      "image/png": "[encoded data removed]",
      "text/plain": [
       "<Figure size 432x288 with 2 Axes>"
      ]
     },
     "metadata": {
      "needs_background": "light"
     },
     "output_type": "display_data"
    },
    {
     "name": "stdout",
     "output_type": "stream",
     "text": [
      "Chi2 test of independance of Gender on Placement: 0.23980260881037566\n"
     ]
    }
   ],
   "source": [
    "displayCatInfo('gender', 'Gender', 'PuRd')"
   ]
  },
  {
   "cell_type": "markdown",
   "id": "91d87978",
   "metadata": {},
   "source": [
    "## Data Modeling and Prediction\n",
    "\n",
    "## Results Analysis"
   ]
  }
 ],
 "metadata": {
  "kernelspec": {
   "display_name": "Python 3 (ipykernel)",
   "language": "python",
   "name": "python3"
  },
  "language_info": {
   "codemirror_mode": {
    "name": "ipython",
    "version": 3
   },
   "file_extension": ".py",
   "mimetype": "text/x-python",
   "name": "python",
   "nbconvert_exporter": "python",
   "pygments_lexer": "ipython3",
   "version": "3.9.7"
  }
 },
 "nbformat": 4,
 "nbformat_minor": 5
}
